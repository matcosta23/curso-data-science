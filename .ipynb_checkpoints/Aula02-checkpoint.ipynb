{
 "cells": [
  {
   "cell_type": "markdown",
   "metadata": {},
   "source": [
    "# Matplotlib\n",
    "___"
   ]
  },
  {
   "cell_type": "code",
   "execution_count": 1,
   "metadata": {},
   "outputs": [],
   "source": [
    "import numpy as np\n",
    "import pandas as pd\n",
    "\n",
    "\n",
    "import matplotlib.pyplot as plt\n",
    "import seaborn as sns"
   ]
  },
  {
   "cell_type": "code",
   "execution_count": 2,
   "metadata": {},
   "outputs": [
    {
     "data": {
      "text/html": [
       "<div>\n",
       "<style scoped>\n",
       "    .dataframe tbody tr th:only-of-type {\n",
       "        vertical-align: middle;\n",
       "    }\n",
       "\n",
       "    .dataframe tbody tr th {\n",
       "        vertical-align: top;\n",
       "    }\n",
       "\n",
       "    .dataframe thead th {\n",
       "        text-align: right;\n",
       "    }\n",
       "</style>\n",
       "<table border=\"1\" class=\"dataframe\">\n",
       "  <thead>\n",
       "    <tr style=\"text-align: right;\">\n",
       "      <th></th>\n",
       "      <th>Unnamed: 0</th>\n",
       "      <th>Date</th>\n",
       "      <th>AveragePrice</th>\n",
       "      <th>Total Volume</th>\n",
       "      <th>4046</th>\n",
       "      <th>4225</th>\n",
       "      <th>4770</th>\n",
       "      <th>Total Bags</th>\n",
       "      <th>Small Bags</th>\n",
       "      <th>Large Bags</th>\n",
       "      <th>XLarge Bags</th>\n",
       "      <th>type</th>\n",
       "      <th>year</th>\n",
       "      <th>region</th>\n",
       "    </tr>\n",
       "  </thead>\n",
       "  <tbody>\n",
       "    <tr>\n",
       "      <th>0</th>\n",
       "      <td>0</td>\n",
       "      <td>2015-12-27</td>\n",
       "      <td>1.33</td>\n",
       "      <td>64236.62</td>\n",
       "      <td>1036.74</td>\n",
       "      <td>54454.85</td>\n",
       "      <td>48.16</td>\n",
       "      <td>8696.87</td>\n",
       "      <td>8603.62</td>\n",
       "      <td>93.25</td>\n",
       "      <td>0.0</td>\n",
       "      <td>conventional</td>\n",
       "      <td>2015</td>\n",
       "      <td>Albany</td>\n",
       "    </tr>\n",
       "    <tr>\n",
       "      <th>1</th>\n",
       "      <td>1</td>\n",
       "      <td>2015-12-20</td>\n",
       "      <td>1.35</td>\n",
       "      <td>54876.98</td>\n",
       "      <td>674.28</td>\n",
       "      <td>44638.81</td>\n",
       "      <td>58.33</td>\n",
       "      <td>9505.56</td>\n",
       "      <td>9408.07</td>\n",
       "      <td>97.49</td>\n",
       "      <td>0.0</td>\n",
       "      <td>conventional</td>\n",
       "      <td>2015</td>\n",
       "      <td>Albany</td>\n",
       "    </tr>\n",
       "    <tr>\n",
       "      <th>2</th>\n",
       "      <td>2</td>\n",
       "      <td>2015-12-13</td>\n",
       "      <td>0.93</td>\n",
       "      <td>118220.22</td>\n",
       "      <td>794.70</td>\n",
       "      <td>109149.67</td>\n",
       "      <td>130.50</td>\n",
       "      <td>8145.35</td>\n",
       "      <td>8042.21</td>\n",
       "      <td>103.14</td>\n",
       "      <td>0.0</td>\n",
       "      <td>conventional</td>\n",
       "      <td>2015</td>\n",
       "      <td>Albany</td>\n",
       "    </tr>\n",
       "    <tr>\n",
       "      <th>3</th>\n",
       "      <td>3</td>\n",
       "      <td>2015-12-06</td>\n",
       "      <td>1.08</td>\n",
       "      <td>78992.15</td>\n",
       "      <td>1132.00</td>\n",
       "      <td>71976.41</td>\n",
       "      <td>72.58</td>\n",
       "      <td>5811.16</td>\n",
       "      <td>5677.40</td>\n",
       "      <td>133.76</td>\n",
       "      <td>0.0</td>\n",
       "      <td>conventional</td>\n",
       "      <td>2015</td>\n",
       "      <td>Albany</td>\n",
       "    </tr>\n",
       "    <tr>\n",
       "      <th>4</th>\n",
       "      <td>4</td>\n",
       "      <td>2015-11-29</td>\n",
       "      <td>1.28</td>\n",
       "      <td>51039.60</td>\n",
       "      <td>941.48</td>\n",
       "      <td>43838.39</td>\n",
       "      <td>75.78</td>\n",
       "      <td>6183.95</td>\n",
       "      <td>5986.26</td>\n",
       "      <td>197.69</td>\n",
       "      <td>0.0</td>\n",
       "      <td>conventional</td>\n",
       "      <td>2015</td>\n",
       "      <td>Albany</td>\n",
       "    </tr>\n",
       "  </tbody>\n",
       "</table>\n",
       "</div>"
      ],
      "text/plain": [
       "   Unnamed: 0        Date  AveragePrice  Total Volume     4046       4225  \\\n",
       "0           0  2015-12-27          1.33      64236.62  1036.74   54454.85   \n",
       "1           1  2015-12-20          1.35      54876.98   674.28   44638.81   \n",
       "2           2  2015-12-13          0.93     118220.22   794.70  109149.67   \n",
       "3           3  2015-12-06          1.08      78992.15  1132.00   71976.41   \n",
       "4           4  2015-11-29          1.28      51039.60   941.48   43838.39   \n",
       "\n",
       "     4770  Total Bags  Small Bags  Large Bags  XLarge Bags          type  \\\n",
       "0   48.16     8696.87     8603.62       93.25          0.0  conventional   \n",
       "1   58.33     9505.56     9408.07       97.49          0.0  conventional   \n",
       "2  130.50     8145.35     8042.21      103.14          0.0  conventional   \n",
       "3   72.58     5811.16     5677.40      133.76          0.0  conventional   \n",
       "4   75.78     6183.95     5986.26      197.69          0.0  conventional   \n",
       "\n",
       "   year  region  \n",
       "0  2015  Albany  \n",
       "1  2015  Albany  \n",
       "2  2015  Albany  \n",
       "3  2015  Albany  \n",
       "4  2015  Albany  "
      ]
     },
     "execution_count": 2,
     "metadata": {},
     "output_type": "execute_result"
    }
   ],
   "source": [
    "df = pd.read_csv('data/avocado.csv')\n",
    "df.head()"
   ]
  },
  {
   "cell_type": "code",
   "execution_count": 3,
   "metadata": {},
   "outputs": [
    {
     "data": {
      "text/plain": [
       "<Figure size 432x288 with 0 Axes>"
      ]
     },
     "execution_count": 3,
     "metadata": {},
     "output_type": "execute_result"
    },
    {
     "data": {
      "text/plain": [
       "<Figure size 432x288 with 0 Axes>"
      ]
     },
     "metadata": {},
     "output_type": "display_data"
    }
   ],
   "source": [
    "plt.figure()"
   ]
  },
  {
   "cell_type": "code",
   "execution_count": 4,
   "metadata": {},
   "outputs": [
    {
     "data": {
      "text/plain": [
       "(array([ 331., 2632., 4824., 4506., 3412., 1672.,  598.,  177.,   86.,\n",
       "          11.]),\n",
       " array([0.44 , 0.721, 1.002, 1.283, 1.564, 1.845, 2.126, 2.407, 2.688,\n",
       "        2.969, 3.25 ]),\n",
       " <a list of 10 Patch objects>)"
      ]
     },
     "execution_count": 4,
     "metadata": {},
     "output_type": "execute_result"
    },
    {
     "data": {
      "image/png": "[encoded data removed]",
      "text/plain": [
       "<Figure size 1080x576 with 1 Axes>"
      ]
     },
     "metadata": {
      "needs_background": "light"
     },
     "output_type": "display_data"
    }
   ],
   "source": [
    "plt.figure(figsize=(15,8))\n",
    "plt.hist(df.AveragePrice)"
   ]
  },
  {
   "cell_type": "code",
   "execution_count": 5,
   "metadata": {},
   "outputs": [],
   "source": [
    "## agrupando os dados necessários\n",
    "\n",
    "data = (\n",
    "    \n",
    "    df.loc[:,['year','AveragePrice']]\n",
    "    .groupby('year')\n",
    "    .mean()\n",
    "\n",
    ")"
   ]
  },
  {
   "cell_type": "code",
   "execution_count": 6,
   "metadata": {},
   "outputs": [
    {
     "data": {
      "text/html": [
       "<div>\n",
       "<style scoped>\n",
       "    .dataframe tbody tr th:only-of-type {\n",
       "        vertical-align: middle;\n",
       "    }\n",
       "\n",
       "    .dataframe tbody tr th {\n",
       "        vertical-align: top;\n",
       "    }\n",
       "\n",
       "    .dataframe thead th {\n",
       "        text-align: right;\n",
       "    }\n",
       "</style>\n",
       "<table border=\"1\" class=\"dataframe\">\n",
       "  <thead>\n",
       "    <tr style=\"text-align: right;\">\n",
       "      <th></th>\n",
       "      <th>AveragePrice</th>\n",
       "    </tr>\n",
       "    <tr>\n",
       "      <th>year</th>\n",
       "      <th></th>\n",
       "    </tr>\n",
       "  </thead>\n",
       "  <tbody>\n",
       "    <tr>\n",
       "      <th>2015</th>\n",
       "      <td>1.375590</td>\n",
       "    </tr>\n",
       "    <tr>\n",
       "      <th>2016</th>\n",
       "      <td>1.338640</td>\n",
       "    </tr>\n",
       "    <tr>\n",
       "      <th>2017</th>\n",
       "      <td>1.515128</td>\n",
       "    </tr>\n",
       "    <tr>\n",
       "      <th>2018</th>\n",
       "      <td>1.347531</td>\n",
       "    </tr>\n",
       "  </tbody>\n",
       "</table>\n",
       "</div>"
      ],
      "text/plain": [
       "      AveragePrice\n",
       "year              \n",
       "2015      1.375590\n",
       "2016      1.338640\n",
       "2017      1.515128\n",
       "2018      1.347531"
      ]
     },
     "execution_count": 6,
     "metadata": {},
     "output_type": "execute_result"
    }
   ],
   "source": [
    "data"
   ]
  },
  {
   "cell_type": "code",
   "execution_count": 7,
   "metadata": {},
   "outputs": [
    {
     "data": {
      "text/plain": [
       "array([[1.37559038],\n",
       "       [1.3386396 ],\n",
       "       [1.51512758],\n",
       "       [1.34753086]])"
      ]
     },
     "execution_count": 7,
     "metadata": {},
     "output_type": "execute_result"
    }
   ],
   "source": [
    "## criando o array de valores necessarios para o tamanho do plt.bar\n",
    "\n",
    "data.values"
   ]
  },
  {
   "cell_type": "code",
   "execution_count": 8,
   "metadata": {},
   "outputs": [],
   "source": [
    "tamanho = data.values.flatten()"
   ]
  },
  {
   "cell_type": "code",
   "execution_count": 9,
   "metadata": {},
   "outputs": [],
   "source": [
    "bacon = list(data.index)"
   ]
  },
  {
   "cell_type": "code",
   "execution_count": 10,
   "metadata": {},
   "outputs": [
    {
     "data": {
      "image/png": "[encoded data removed]",
      "text/plain": [
       "<Figure size 1080x648 with 1 Axes>"
      ]
     },
     "metadata": {
      "needs_background": "light"
     },
     "output_type": "display_data"
    }
   ],
   "source": [
    "plt.figure(figsize=(15,9))\n",
    "plt.bar(x = bacon, height= tamanho)\n",
    "plt.show()"
   ]
  },
  {
   "cell_type": "code",
   "execution_count": 11,
   "metadata": {},
   "outputs": [
    {
     "data": {
      "text/plain": [
       "[2015, 2016, 2017, 2018]"
      ]
     },
     "execution_count": 11,
     "metadata": {},
     "output_type": "execute_result"
    }
   ],
   "source": [
    "## criando a lista de valores necessarios para os indices do plt.bar\n",
    "\n",
    "x = list(data.index)\n",
    "x"
   ]
  },
  {
   "cell_type": "code",
   "execution_count": 12,
   "metadata": {},
   "outputs": [
    {
     "data": {
      "image/png": "[encoded data removed]",
      "text/plain": [
       "<Figure size 432x288 with 1 Axes>"
      ]
     },
     "metadata": {
      "needs_background": "light"
     },
     "output_type": "display_data"
    }
   ],
   "source": [
    "## criando um plt.bar com tamanho e x\n",
    "\n",
    "plt.figure()\n",
    "plt.bar(x = x, height= tamanho)\n",
    "plt.show()"
   ]
  },
  {
   "cell_type": "code",
   "execution_count": 13,
   "metadata": {},
   "outputs": [
    {
     "data": {
      "text/plain": [
       "<matplotlib.collections.PathCollection at 0x7f6b7d50bfd0>"
      ]
     },
     "execution_count": 13,
     "metadata": {},
     "output_type": "execute_result"
    },
    {
     "data": {
      "image/png": "[encoded data removed]",
      "text/plain": [
       "<Figure size 1080x648 with 1 Axes>"
      ]
     },
     "metadata": {
      "needs_background": "light"
     },
     "output_type": "display_data"
    }
   ],
   "source": [
    "plt.figure(figsize=(15,9))\n",
    "plt.scatter(x=df['AveragePrice'],y=df['Total Volume'])"
   ]
  },
  {
   "cell_type": "code",
   "execution_count": 14,
   "metadata": {},
   "outputs": [
    {
     "data": {
      "image/png": "[encoded data removed]",
      "text/plain": [
       "<Figure size 432x288 with 1 Axes>"
      ]
     },
     "metadata": {
      "needs_background": "light"
     },
     "output_type": "display_data"
    }
   ],
   "source": [
    "## criando um scatterplot com AvaragePrice\n",
    "\n",
    "plt.figure()\n",
    "plt.scatter(x=df['AveragePrice'],y=df['Total Volume'])\n",
    "plt.show()"
   ]
  },
  {
   "cell_type": "code",
   "execution_count": 15,
   "metadata": {},
   "outputs": [
    {
     "data": {
      "text/plain": [
       "<matplotlib.legend.Legend at 0x7f6b7d6128d0>"
      ]
     },
     "execution_count": 15,
     "metadata": {},
     "output_type": "execute_result"
    },
    {
     "data": {
      "image/png": "[encoded data removed]",
      "text/plain": [
       "<Figure size 1080x648 with 1 Axes>"
      ]
     },
     "metadata": {
      "needs_background": "light"
     },
     "output_type": "display_data"
    }
   ],
   "source": [
    "## adicionando dois dados num só grafico, adicionando cor, adicionando marcadores\n",
    "\n",
    "plt.figure(figsize=(15,9))\n",
    "\n",
    "\n",
    "plt.scatter(x = df[df.year == 2016].AveragePrice, \n",
    "            y = df[df.year == 2016]['Total Volume'], \n",
    "            c = 'tab:blue' , \n",
    "            marker = 's' ,\n",
    "            label='2016')\n",
    "\n",
    "plt.scatter(x = df[df.year == 2015].AveragePrice, \n",
    "            y = df[df.year == 2015]['Total Volume'], \n",
    "            c = 'tab:orange' , \n",
    "            marker = 'X',\n",
    "            label='2015')\n",
    "\n",
    "plt.legend()"
   ]
  },
  {
   "cell_type": "code",
   "execution_count": 16,
   "metadata": {},
   "outputs": [
    {
     "data": {
      "image/png": "[encoded data removed]",
      "text/plain": [
       "<Figure size 1080x648 with 1 Axes>"
      ]
     },
     "metadata": {
      "needs_background": "light"
     },
     "output_type": "display_data"
    }
   ],
   "source": [
    "## adicionando legendas\n",
    "\n",
    "plt.figure(figsize=(15,9))\n",
    "plt.scatter(x = df[df.year == 2016].AveragePrice, y = df[df.year == 2016]['Total Volume'], \n",
    "            c = 'tab:blue' , marker = 'd' , label='Dados 2016')\n",
    "plt.scatter(x = df[df.year == 2015].AveragePrice, y = df[df.year == 2015]['Total Volume'], \n",
    "            c = 'tab:orange' , marker = 'X', label='Dados 2015')\n",
    "\n",
    "plt.legend()\n",
    "plt.show()"
   ]
  },
  {
   "cell_type": "code",
   "execution_count": 17,
   "metadata": {},
   "outputs": [
    {
     "data": {
      "image/png": "[encoded data removed]",
      "text/plain": [
       "<Figure size 1080x648 with 1 Axes>"
      ]
     },
     "metadata": {
      "needs_background": "light"
     },
     "output_type": "display_data"
    }
   ],
   "source": [
    "## criando um histograma\n",
    "\n",
    "plt.figure(figsize=(15,9))\n",
    "plt.hist(x = df[df['year'] == 2015].AveragePrice, color='tab:orange',\n",
    "        alpha=0.6,\n",
    "        label='2015')\n",
    "\n",
    "plt.hist(x = df[df['year'] == 2016].AveragePrice, color='tab:blue',\n",
    "        alpha=0.6,\n",
    "        label='2016')\n",
    "\n",
    "plt.legend()\n",
    "plt.show()"
   ]
  },
  {
   "cell_type": "code",
   "execution_count": 18,
   "metadata": {},
   "outputs": [
    {
     "data": {
      "text/plain": [
       "1.3755903829029386"
      ]
     },
     "execution_count": 18,
     "metadata": {},
     "output_type": "execute_result"
    }
   ],
   "source": [
    "media = df[df['year'] == 2015].AveragePrice.mean()\n",
    "media"
   ]
  },
  {
   "cell_type": "code",
   "execution_count": 19,
   "metadata": {},
   "outputs": [
    {
     "data": {
      "text/plain": [
       "Text(0.5, 1.0, 'Meu gráfico bonito')"
      ]
     },
     "execution_count": 19,
     "metadata": {},
     "output_type": "execute_result"
    },
    {
     "data": {
      "image/png": "[encoded data removed]",
      "text/plain": [
       "<Figure size 1152x648 with 1 Axes>"
      ]
     },
     "metadata": {
      "needs_background": "light"
     },
     "output_type": "display_data"
    }
   ],
   "source": [
    "plt.figure(figsize=(16,9))\n",
    "plt.hist(x = df[df['year'] == 2015].AveragePrice, color='tab:orange',\n",
    "        alpha=0.6,\n",
    "        label='2015')\n",
    "\n",
    "plt.axvline(x = media,color='red', lw=5)\n",
    "\n",
    "plt.text(x = media+0.02, y = 1600, s='Média')\n",
    "\n",
    "plt.title('Meu gráfico bonito',size=15)"
   ]
  },
  {
   "cell_type": "code",
   "execution_count": 20,
   "metadata": {},
   "outputs": [
    {
     "data": {
      "image/png": "[encoded data removed]",
      "text/plain": [
       "<Figure size 1080x648 with 1 Axes>"
      ]
     },
     "metadata": {
      "needs_background": "light"
     },
     "output_type": "display_data"
    }
   ],
   "source": [
    "## encontrado a media dos valores\n",
    "\n",
    "media = df[df['year'] == 2015]['AveragePrice'].mean()\n",
    "\n",
    "plt.figure(figsize=(15,9))\n",
    "plt.hist(x = df[df['year'] == 2015]['AveragePrice'],color='tab:orange',alpha=0.6,label='2015')\n",
    "plt.axvline(x = media ,color='tab:red')\n",
    "plt.text(x =  media + 0.01, y = 1600, s = f'Média {round(media,2)}', fontdict = {'color':'tab:red'})\n",
    "\n",
    "plt.legend()\n",
    "plt.show()"
   ]
  },
  {
   "cell_type": "code",
   "execution_count": 21,
   "metadata": {},
   "outputs": [
    {
     "data": {
      "image/png": "[encoded data removed]",
      "text/plain": [
       "<Figure size 1080x648 with 1 Axes>"
      ]
     },
     "metadata": {
      "needs_background": "light"
     },
     "output_type": "display_data"
    }
   ],
   "source": [
    "## criando mais de um histograma na mesma figura\n",
    "\n",
    "plt.figure(figsize=(15,9))\n",
    "plt.hist(x = df[df['year'] == 2015]['AveragePrice'],color='tab:orange',alpha=0.6,label='2015')\n",
    "plt.hist(x = df[df['year'] == 2016]['AveragePrice'],color='tab:blue',alpha=0.6,label='2016')\n",
    "plt.legend()\n",
    "plt.show()"
   ]
  },
  {
   "cell_type": "code",
   "execution_count": 22,
   "metadata": {},
   "outputs": [
    {
     "data": {
      "image/png": "[encoded data removed]",
      "text/plain": [
       "<Figure size 1080x648 with 1 Axes>"
      ]
     },
     "metadata": {
      "needs_background": "light"
     },
     "output_type": "display_data"
    }
   ],
   "source": [
    "## gerando o gráfico acima com título\n",
    "\n",
    "plt.figure(figsize=(15,9))\n",
    "plt.hist(x = df[df['year'] == 2015]['AveragePrice'],color='tab:orange',alpha=0.6,label='2015')\n",
    "plt.hist(x = df[df['year'] == 2016]['AveragePrice'],color='tab:blue',alpha=0.6,label='2016')\n",
    "plt.title('AveragePrice 2015 vs. 2016',fontdict={'color':'black'})\n",
    "plt.legend()\n",
    "plt.show()"
   ]
  },
  {
   "cell_type": "code",
   "execution_count": 23,
   "metadata": {},
   "outputs": [
    {
     "name": "stdout",
     "output_type": "stream",
     "text": [
      "(104, 2)\n"
     ]
    },
    {
     "data": {
      "text/html": [
       "<div>\n",
       "<style scoped>\n",
       "    .dataframe tbody tr th:only-of-type {\n",
       "        vertical-align: middle;\n",
       "    }\n",
       "\n",
       "    .dataframe tbody tr th {\n",
       "        vertical-align: top;\n",
       "    }\n",
       "\n",
       "    .dataframe thead th {\n",
       "        text-align: right;\n",
       "    }\n",
       "</style>\n",
       "<table border=\"1\" class=\"dataframe\">\n",
       "  <thead>\n",
       "    <tr style=\"text-align: right;\">\n",
       "      <th></th>\n",
       "      <th>Date</th>\n",
       "      <th>Total Bags</th>\n",
       "    </tr>\n",
       "  </thead>\n",
       "  <tbody>\n",
       "    <tr>\n",
       "      <th>1143</th>\n",
       "      <td>2015-01-04</td>\n",
       "      <td>58638.68</td>\n",
       "    </tr>\n",
       "    <tr>\n",
       "      <th>10269</th>\n",
       "      <td>2015-01-04</td>\n",
       "      <td>457.12</td>\n",
       "    </tr>\n",
       "    <tr>\n",
       "      <th>10268</th>\n",
       "      <td>2015-01-11</td>\n",
       "      <td>33.33</td>\n",
       "    </tr>\n",
       "    <tr>\n",
       "      <th>1142</th>\n",
       "      <td>2015-01-11</td>\n",
       "      <td>37144.36</td>\n",
       "    </tr>\n",
       "    <tr>\n",
       "      <th>1141</th>\n",
       "      <td>2015-01-18</td>\n",
       "      <td>33175.55</td>\n",
       "    </tr>\n",
       "    <tr>\n",
       "      <th>...</th>\n",
       "      <td>...</td>\n",
       "      <td>...</td>\n",
       "    </tr>\n",
       "    <tr>\n",
       "      <th>10220</th>\n",
       "      <td>2015-12-13</td>\n",
       "      <td>509.14</td>\n",
       "    </tr>\n",
       "    <tr>\n",
       "      <th>1093</th>\n",
       "      <td>2015-12-20</td>\n",
       "      <td>54103.94</td>\n",
       "    </tr>\n",
       "    <tr>\n",
       "      <th>10219</th>\n",
       "      <td>2015-12-20</td>\n",
       "      <td>407.88</td>\n",
       "    </tr>\n",
       "    <tr>\n",
       "      <th>10218</th>\n",
       "      <td>2015-12-27</td>\n",
       "      <td>1015.50</td>\n",
       "    </tr>\n",
       "    <tr>\n",
       "      <th>1092</th>\n",
       "      <td>2015-12-27</td>\n",
       "      <td>58612.10</td>\n",
       "    </tr>\n",
       "  </tbody>\n",
       "</table>\n",
       "<p>104 rows × 2 columns</p>\n",
       "</div>"
      ],
      "text/plain": [
       "            Date  Total Bags\n",
       "1143  2015-01-04    58638.68\n",
       "10269 2015-01-04      457.12\n",
       "10268 2015-01-11       33.33\n",
       "1142  2015-01-11    37144.36\n",
       "1141  2015-01-18    33175.55\n",
       "...          ...         ...\n",
       "10220 2015-12-13      509.14\n",
       "1093  2015-12-20    54103.94\n",
       "10219 2015-12-20      407.88\n",
       "10218 2015-12-27     1015.50\n",
       "1092  2015-12-27    58612.10\n",
       "\n",
       "[104 rows x 2 columns]"
      ]
     },
     "execution_count": 23,
     "metadata": {},
     "output_type": "execute_result"
    }
   ],
   "source": [
    "## gerando os dados necessários para o próximo gráfico\n",
    "\n",
    "dados15 = (\n",
    "\n",
    "\n",
    "  df[['Date','Total Bags','year','region']]\n",
    "  .query('year == 2015')\n",
    "  .query(\"region == 'LasVegas'\")\n",
    "  .drop(['year','region'],axis=1)\n",
    "  .assign(Date = lambda x: pd.to_datetime(x.Date,infer_datetime_format=True))\n",
    "  .sort_values('Date')\n",
    "\n",
    ")\n",
    "\n",
    "print(dados15.shape)\n",
    "dados15"
   ]
  },
  {
   "cell_type": "code",
   "execution_count": 24,
   "metadata": {},
   "outputs": [
    {
     "name": "stdout",
     "output_type": "stream",
     "text": [
      "(104, 2)\n"
     ]
    },
    {
     "data": {
      "text/html": [
       "<div>\n",
       "<style scoped>\n",
       "    .dataframe tbody tr th:only-of-type {\n",
       "        vertical-align: middle;\n",
       "    }\n",
       "\n",
       "    .dataframe tbody tr th {\n",
       "        vertical-align: top;\n",
       "    }\n",
       "\n",
       "    .dataframe thead th {\n",
       "        text-align: right;\n",
       "    }\n",
       "</style>\n",
       "<table border=\"1\" class=\"dataframe\">\n",
       "  <thead>\n",
       "    <tr style=\"text-align: right;\">\n",
       "      <th></th>\n",
       "      <th>Date</th>\n",
       "      <th>Total Bags</th>\n",
       "    </tr>\n",
       "  </thead>\n",
       "  <tbody>\n",
       "    <tr>\n",
       "      <th>3951</th>\n",
       "      <td>2016-01-03</td>\n",
       "      <td>75612.72</td>\n",
       "    </tr>\n",
       "    <tr>\n",
       "      <th>13076</th>\n",
       "      <td>2016-01-03</td>\n",
       "      <td>2458.12</td>\n",
       "    </tr>\n",
       "    <tr>\n",
       "      <th>13075</th>\n",
       "      <td>2016-01-10</td>\n",
       "      <td>2991.43</td>\n",
       "    </tr>\n",
       "    <tr>\n",
       "      <th>3950</th>\n",
       "      <td>2016-01-10</td>\n",
       "      <td>73575.08</td>\n",
       "    </tr>\n",
       "    <tr>\n",
       "      <th>3949</th>\n",
       "      <td>2016-01-17</td>\n",
       "      <td>70185.24</td>\n",
       "    </tr>\n",
       "    <tr>\n",
       "      <th>...</th>\n",
       "      <td>...</td>\n",
       "      <td>...</td>\n",
       "    </tr>\n",
       "    <tr>\n",
       "      <th>13027</th>\n",
       "      <td>2016-12-11</td>\n",
       "      <td>2617.12</td>\n",
       "    </tr>\n",
       "    <tr>\n",
       "      <th>3901</th>\n",
       "      <td>2016-12-18</td>\n",
       "      <td>152694.40</td>\n",
       "    </tr>\n",
       "    <tr>\n",
       "      <th>13026</th>\n",
       "      <td>2016-12-18</td>\n",
       "      <td>4099.95</td>\n",
       "    </tr>\n",
       "    <tr>\n",
       "      <th>13025</th>\n",
       "      <td>2016-12-25</td>\n",
       "      <td>5921.68</td>\n",
       "    </tr>\n",
       "    <tr>\n",
       "      <th>3900</th>\n",
       "      <td>2016-12-25</td>\n",
       "      <td>133812.44</td>\n",
       "    </tr>\n",
       "  </tbody>\n",
       "</table>\n",
       "<p>104 rows × 2 columns</p>\n",
       "</div>"
      ],
      "text/plain": [
       "            Date  Total Bags\n",
       "3951  2016-01-03    75612.72\n",
       "13076 2016-01-03     2458.12\n",
       "13075 2016-01-10     2991.43\n",
       "3950  2016-01-10    73575.08\n",
       "3949  2016-01-17    70185.24\n",
       "...          ...         ...\n",
       "13027 2016-12-11     2617.12\n",
       "3901  2016-12-18   152694.40\n",
       "13026 2016-12-18     4099.95\n",
       "13025 2016-12-25     5921.68\n",
       "3900  2016-12-25   133812.44\n",
       "\n",
       "[104 rows x 2 columns]"
      ]
     },
     "execution_count": 24,
     "metadata": {},
     "output_type": "execute_result"
    }
   ],
   "source": [
    "## gerando os dados necessários para o próximo gráfico\n",
    "\n",
    "dados16 = (\n",
    "\n",
    "\n",
    "  df[['Date','Total Bags','year','region']]\n",
    "  .query('year == 2016')\n",
    "  .query(\"region == 'LasVegas'\")\n",
    "  .drop(['year','region'],axis=1)\n",
    "  .assign(Date = lambda x: pd.to_datetime(x.Date,infer_datetime_format=True))\n",
    "  .sort_values('Date')\n",
    "\n",
    ")\n",
    "\n",
    "print(dados16.shape)\n",
    "dados16"
   ]
  },
  {
   "cell_type": "code",
   "execution_count": 25,
   "metadata": {},
   "outputs": [],
   "source": [
    "## gerando o gráfico de linhas com a soma cumulativa\n",
    "\n",
    "soma_cumulativa15 = dados15['Total Bags'].cumsum()\n",
    "soma_cumulativa16 = dados16['Total Bags'].cumsum()"
   ]
  },
  {
   "cell_type": "code",
   "execution_count": 26,
   "metadata": {},
   "outputs": [],
   "source": [
    "linha = soma_cumulativa15.values[-1]"
   ]
  },
  {
   "cell_type": "code",
   "execution_count": 27,
   "metadata": {},
   "outputs": [
    {
     "data": {
      "image/png": "[encoded data removed]",
      "text/plain": [
       "<Figure size 1080x648 with 1 Axes>"
      ]
     },
     "metadata": {
      "needs_background": "light"
     },
     "output_type": "display_data"
    }
   ],
   "source": [
    "plt.figure(figsize=(15,9))\n",
    "plt.plot(range(104),soma_cumulativa15,label='LasVegas 2015')\n",
    "plt.plot(range(104),soma_cumulativa16,label='LasVegas 2016')\n",
    "plt.axhline(y = linha, color= 'red')\n",
    "plt.title('Total Bags 2015 vs. 2016')\n",
    "plt.legend()\n",
    "plt.show()"
   ]
  },
  {
   "cell_type": "code",
   "execution_count": 28,
   "metadata": {},
   "outputs": [
    {
     "data": {
      "image/png": "[encoded data removed]",
      "text/plain": [
       "<Figure size 432x288 with 1 Axes>"
      ]
     },
     "metadata": {
      "needs_background": "light"
     },
     "output_type": "display_data"
    }
   ],
   "source": [
    "## criando um subplot vazio\n",
    "\n",
    "plt.subplots()\n",
    "plt.show()"
   ]
  },
  {
   "cell_type": "code",
   "execution_count": 29,
   "metadata": {},
   "outputs": [
    {
     "data": {
      "image/png": "[encoded data removed]",
      "text/plain": [
       "<Figure size 432x288 with 4 Axes>"
      ]
     },
     "metadata": {
      "needs_background": "light"
     },
     "output_type": "display_data"
    }
   ],
   "source": [
    "## criando um subplot com 4 axes (2 linhas e 2 colunas)\n",
    "\n",
    "plt.subplots(2,2)\n",
    "plt.show()"
   ]
  },
  {
   "cell_type": "code",
   "execution_count": 30,
   "metadata": {},
   "outputs": [
    {
     "data": {
      "image/png": "[encoded data removed]",
      "text/plain": [
       "<Figure size 432x288 with 8 Axes>"
      ]
     },
     "metadata": {
      "needs_background": "light"
     },
     "output_type": "display_data"
    }
   ],
   "source": [
    "## guardando os retornos em varíaveis que podemos acessar e controlar\n",
    "\n",
    "f, ax = plt.subplots(4,2)\n",
    "plt.show()"
   ]
  },
  {
   "cell_type": "code",
   "execution_count": 31,
   "metadata": {},
   "outputs": [
    {
     "name": "stdout",
     "output_type": "stream",
     "text": [
      "<class 'matplotlib.figure.Figure'>\n",
      "<class 'numpy.ndarray'>\n"
     ]
    }
   ],
   "source": [
    "## verificando o tipo de f e ax\n",
    "\n",
    "print(type(f))\n",
    "print(type(ax))"
   ]
  },
  {
   "cell_type": "code",
   "execution_count": 32,
   "metadata": {},
   "outputs": [
    {
     "data": {
      "image/png": "[encoded data removed]",
      "text/plain": [
       "<Figure size 864x648 with 6 Axes>"
      ]
     },
     "metadata": {
      "needs_background": "light"
     },
     "output_type": "display_data"
    }
   ],
   "source": [
    "## acessando os gráficos e adicionando os textos\n",
    "\n",
    "f, ax = plt.subplots(3,2,figsize=(12,9),sharey=True)\n",
    "\n",
    "\n",
    "for i in range(3):\n",
    "    for j in range(2):\n",
    "        ax[i,j].text(0.5, 0.5, str([i, j]),fontsize=18, ha='center')\n",
    "\n",
    "\n",
    "plt.show()"
   ]
  },
  {
   "cell_type": "code",
   "execution_count": 33,
   "metadata": {},
   "outputs": [
    {
     "data": {
      "text/html": [
       "<div>\n",
       "<style scoped>\n",
       "    .dataframe tbody tr th:only-of-type {\n",
       "        vertical-align: middle;\n",
       "    }\n",
       "\n",
       "    .dataframe tbody tr th {\n",
       "        vertical-align: top;\n",
       "    }\n",
       "\n",
       "    .dataframe thead th {\n",
       "        text-align: right;\n",
       "    }\n",
       "</style>\n",
       "<table border=\"1\" class=\"dataframe\">\n",
       "  <thead>\n",
       "    <tr style=\"text-align: right;\">\n",
       "      <th></th>\n",
       "      <th>AveragePrice</th>\n",
       "      <th>year</th>\n",
       "    </tr>\n",
       "  </thead>\n",
       "  <tbody>\n",
       "    <tr>\n",
       "      <th>0</th>\n",
       "      <td>1.33</td>\n",
       "      <td>2015</td>\n",
       "    </tr>\n",
       "    <tr>\n",
       "      <th>1</th>\n",
       "      <td>1.35</td>\n",
       "      <td>2015</td>\n",
       "    </tr>\n",
       "    <tr>\n",
       "      <th>2</th>\n",
       "      <td>0.93</td>\n",
       "      <td>2015</td>\n",
       "    </tr>\n",
       "    <tr>\n",
       "      <th>3</th>\n",
       "      <td>1.08</td>\n",
       "      <td>2015</td>\n",
       "    </tr>\n",
       "    <tr>\n",
       "      <th>4</th>\n",
       "      <td>1.28</td>\n",
       "      <td>2015</td>\n",
       "    </tr>\n",
       "    <tr>\n",
       "      <th>...</th>\n",
       "      <td>...</td>\n",
       "      <td>...</td>\n",
       "    </tr>\n",
       "    <tr>\n",
       "      <th>18244</th>\n",
       "      <td>1.63</td>\n",
       "      <td>2018</td>\n",
       "    </tr>\n",
       "    <tr>\n",
       "      <th>18245</th>\n",
       "      <td>1.71</td>\n",
       "      <td>2018</td>\n",
       "    </tr>\n",
       "    <tr>\n",
       "      <th>18246</th>\n",
       "      <td>1.87</td>\n",
       "      <td>2018</td>\n",
       "    </tr>\n",
       "    <tr>\n",
       "      <th>18247</th>\n",
       "      <td>1.93</td>\n",
       "      <td>2018</td>\n",
       "    </tr>\n",
       "    <tr>\n",
       "      <th>18248</th>\n",
       "      <td>1.62</td>\n",
       "      <td>2018</td>\n",
       "    </tr>\n",
       "  </tbody>\n",
       "</table>\n",
       "<p>18249 rows × 2 columns</p>\n",
       "</div>"
      ],
      "text/plain": [
       "       AveragePrice  year\n",
       "0              1.33  2015\n",
       "1              1.35  2015\n",
       "2              0.93  2015\n",
       "3              1.08  2015\n",
       "4              1.28  2015\n",
       "...             ...   ...\n",
       "18244          1.63  2018\n",
       "18245          1.71  2018\n",
       "18246          1.87  2018\n",
       "18247          1.93  2018\n",
       "18248          1.62  2018\n",
       "\n",
       "[18249 rows x 2 columns]"
      ]
     },
     "execution_count": 33,
     "metadata": {},
     "output_type": "execute_result"
    }
   ],
   "source": [
    "## definindo os dados que vamos usar\n",
    "subplot_data = df[['AveragePrice','year']]\n",
    "subplot_data"
   ]
  },
  {
   "cell_type": "code",
   "execution_count": 34,
   "metadata": {},
   "outputs": [
    {
     "data": {
      "image/png": "[encoded data removed]",
      "text/plain": [
       "<Figure size 864x648 with 4 Axes>"
      ]
     },
     "metadata": {
      "needs_background": "light"
     },
     "output_type": "display_data"
    }
   ],
   "source": [
    "## criando os gráficos em cada um dos eixos\n",
    "\n",
    "f, ax = plt.subplots(2,2,figsize=(12,9),sharey=True)\n",
    "ax[0,0].hist(subplot_data.query('year == 2015').AveragePrice)\n",
    "ax[0,0].set_title('Gráfico legal')\n",
    "\n",
    "\n",
    "ax[0,1].hist(subplot_data.query('year == 2016').AveragePrice)\n",
    "ax[1,0].hist(subplot_data.query('year == 2017').AveragePrice)\n",
    "ax[1,1].hist(subplot_data.query('year == 2018').AveragePrice)\n",
    "\n",
    "\n",
    "plt.show()"
   ]
  },
  {
   "cell_type": "markdown",
   "metadata": {},
   "source": [
    "# Seaborn\n",
    "___"
   ]
  },
  {
   "cell_type": "code",
   "execution_count": 35,
   "metadata": {},
   "outputs": [],
   "source": [
    "import seaborn as sns\n",
    "\n",
    "dados = df[['year','AveragePrice']]"
   ]
  },
  {
   "cell_type": "code",
   "execution_count": 36,
   "metadata": {},
   "outputs": [
    {
     "data": {
      "text/html": [
       "<div>\n",
       "<style scoped>\n",
       "    .dataframe tbody tr th:only-of-type {\n",
       "        vertical-align: middle;\n",
       "    }\n",
       "\n",
       "    .dataframe tbody tr th {\n",
       "        vertical-align: top;\n",
       "    }\n",
       "\n",
       "    .dataframe thead th {\n",
       "        text-align: right;\n",
       "    }\n",
       "</style>\n",
       "<table border=\"1\" class=\"dataframe\">\n",
       "  <thead>\n",
       "    <tr style=\"text-align: right;\">\n",
       "      <th></th>\n",
       "      <th>year</th>\n",
       "      <th>AveragePrice</th>\n",
       "    </tr>\n",
       "  </thead>\n",
       "  <tbody>\n",
       "    <tr>\n",
       "      <th>0</th>\n",
       "      <td>2015</td>\n",
       "      <td>1.33</td>\n",
       "    </tr>\n",
       "    <tr>\n",
       "      <th>1</th>\n",
       "      <td>2015</td>\n",
       "      <td>1.35</td>\n",
       "    </tr>\n",
       "    <tr>\n",
       "      <th>2</th>\n",
       "      <td>2015</td>\n",
       "      <td>0.93</td>\n",
       "    </tr>\n",
       "    <tr>\n",
       "      <th>3</th>\n",
       "      <td>2015</td>\n",
       "      <td>1.08</td>\n",
       "    </tr>\n",
       "    <tr>\n",
       "      <th>4</th>\n",
       "      <td>2015</td>\n",
       "      <td>1.28</td>\n",
       "    </tr>\n",
       "  </tbody>\n",
       "</table>\n",
       "</div>"
      ],
      "text/plain": [
       "   year  AveragePrice\n",
       "0  2015          1.33\n",
       "1  2015          1.35\n",
       "2  2015          0.93\n",
       "3  2015          1.08\n",
       "4  2015          1.28"
      ]
     },
     "execution_count": 36,
     "metadata": {},
     "output_type": "execute_result"
    }
   ],
   "source": [
    "dados.head()"
   ]
  },
  {
   "cell_type": "code",
   "execution_count": 37,
   "metadata": {},
   "outputs": [
    {
     "data": {
      "text/plain": [
       "(18249, 2)"
      ]
     },
     "execution_count": 37,
     "metadata": {},
     "output_type": "execute_result"
    }
   ],
   "source": [
    "dados.shape"
   ]
  },
  {
   "cell_type": "code",
   "execution_count": 38,
   "metadata": {},
   "outputs": [
    {
     "data": {
      "text/plain": [
       "<seaborn.axisgrid.FacetGrid at 0x7f6b7d00de90>"
      ]
     },
     "execution_count": 38,
     "metadata": {},
     "output_type": "execute_result"
    },
    {
     "data": {
      "image/png": "[encoded data removed]",
      "text/plain": [
       "<Figure size 360x360 with 1 Axes>"
      ]
     },
     "metadata": {
      "needs_background": "light"
     },
     "output_type": "display_data"
    }
   ],
   "source": [
    "## criando um boxplot\n",
    "\n",
    "sns.catplot(x = 'year', y = 'AveragePrice', kind='box', data = dados)"
   ]
  },
  {
   "cell_type": "markdown",
   "metadata": {},
   "source": [
    "catplot == categorical plot"
   ]
  },
  {
   "cell_type": "code",
   "execution_count": 39,
   "metadata": {},
   "outputs": [
    {
     "data": {
      "text/html": [
       "<div>\n",
       "<style scoped>\n",
       "    .dataframe tbody tr th:only-of-type {\n",
       "        vertical-align: middle;\n",
       "    }\n",
       "\n",
       "    .dataframe tbody tr th {\n",
       "        vertical-align: top;\n",
       "    }\n",
       "\n",
       "    .dataframe thead th {\n",
       "        text-align: right;\n",
       "    }\n",
       "</style>\n",
       "<table border=\"1\" class=\"dataframe\">\n",
       "  <thead>\n",
       "    <tr style=\"text-align: right;\">\n",
       "      <th></th>\n",
       "      <th>year</th>\n",
       "      <th>AveragePrice</th>\n",
       "    </tr>\n",
       "  </thead>\n",
       "  <tbody>\n",
       "    <tr>\n",
       "      <th>8478</th>\n",
       "      <td>2018</td>\n",
       "      <td>1.57</td>\n",
       "    </tr>\n",
       "    <tr>\n",
       "      <th>8479</th>\n",
       "      <td>2018</td>\n",
       "      <td>1.35</td>\n",
       "    </tr>\n",
       "    <tr>\n",
       "      <th>8480</th>\n",
       "      <td>2018</td>\n",
       "      <td>1.12</td>\n",
       "    </tr>\n",
       "    <tr>\n",
       "      <th>8481</th>\n",
       "      <td>2018</td>\n",
       "      <td>1.08</td>\n",
       "    </tr>\n",
       "    <tr>\n",
       "      <th>8482</th>\n",
       "      <td>2018</td>\n",
       "      <td>1.28</td>\n",
       "    </tr>\n",
       "    <tr>\n",
       "      <th>...</th>\n",
       "      <td>...</td>\n",
       "      <td>...</td>\n",
       "    </tr>\n",
       "    <tr>\n",
       "      <th>18244</th>\n",
       "      <td>2018</td>\n",
       "      <td>1.63</td>\n",
       "    </tr>\n",
       "    <tr>\n",
       "      <th>18245</th>\n",
       "      <td>2018</td>\n",
       "      <td>1.71</td>\n",
       "    </tr>\n",
       "    <tr>\n",
       "      <th>18246</th>\n",
       "      <td>2018</td>\n",
       "      <td>1.87</td>\n",
       "    </tr>\n",
       "    <tr>\n",
       "      <th>18247</th>\n",
       "      <td>2018</td>\n",
       "      <td>1.93</td>\n",
       "    </tr>\n",
       "    <tr>\n",
       "      <th>18248</th>\n",
       "      <td>2018</td>\n",
       "      <td>1.62</td>\n",
       "    </tr>\n",
       "  </tbody>\n",
       "</table>\n",
       "<p>1296 rows × 2 columns</p>\n",
       "</div>"
      ],
      "text/plain": [
       "       year  AveragePrice\n",
       "8478   2018          1.57\n",
       "8479   2018          1.35\n",
       "8480   2018          1.12\n",
       "8481   2018          1.08\n",
       "8482   2018          1.28\n",
       "...     ...           ...\n",
       "18244  2018          1.63\n",
       "18245  2018          1.71\n",
       "18246  2018          1.87\n",
       "18247  2018          1.93\n",
       "18248  2018          1.62\n",
       "\n",
       "[1296 rows x 2 columns]"
      ]
     },
     "execution_count": 39,
     "metadata": {},
     "output_type": "execute_result"
    }
   ],
   "source": [
    "dados18 = dados.query(\"year == 2018\")\n",
    "dados18"
   ]
  },
  {
   "cell_type": "code",
   "execution_count": 40,
   "metadata": {},
   "outputs": [
    {
     "data": {
      "image/png": "[encoded data removed]",
      "text/plain": [
       "<Figure size 432x288 with 1 Axes>"
      ]
     },
     "metadata": {
      "needs_background": "light"
     },
     "output_type": "display_data"
    }
   ],
   "source": [
    "sns.distplot(dados18.AveragePrice, bins=20, kde=False);"
   ]
  },
  {
   "cell_type": "code",
   "execution_count": 41,
   "metadata": {},
   "outputs": [
    {
     "data": {
      "text/html": [
       "<div>\n",
       "<style scoped>\n",
       "    .dataframe tbody tr th:only-of-type {\n",
       "        vertical-align: middle;\n",
       "    }\n",
       "\n",
       "    .dataframe tbody tr th {\n",
       "        vertical-align: top;\n",
       "    }\n",
       "\n",
       "    .dataframe thead th {\n",
       "        text-align: right;\n",
       "    }\n",
       "</style>\n",
       "<table border=\"1\" class=\"dataframe\">\n",
       "  <thead>\n",
       "    <tr style=\"text-align: right;\">\n",
       "      <th></th>\n",
       "      <th>Small Bags</th>\n",
       "      <th>Total Bags</th>\n",
       "    </tr>\n",
       "  </thead>\n",
       "  <tbody>\n",
       "    <tr>\n",
       "      <th>0</th>\n",
       "      <td>8603.62</td>\n",
       "      <td>8696.87</td>\n",
       "    </tr>\n",
       "    <tr>\n",
       "      <th>1</th>\n",
       "      <td>9408.07</td>\n",
       "      <td>9505.56</td>\n",
       "    </tr>\n",
       "    <tr>\n",
       "      <th>2</th>\n",
       "      <td>8042.21</td>\n",
       "      <td>8145.35</td>\n",
       "    </tr>\n",
       "    <tr>\n",
       "      <th>3</th>\n",
       "      <td>5677.40</td>\n",
       "      <td>5811.16</td>\n",
       "    </tr>\n",
       "    <tr>\n",
       "      <th>4</th>\n",
       "      <td>5986.26</td>\n",
       "      <td>6183.95</td>\n",
       "    </tr>\n",
       "  </tbody>\n",
       "</table>\n",
       "</div>"
      ],
      "text/plain": [
       "   Small Bags  Total Bags\n",
       "0     8603.62     8696.87\n",
       "1     9408.07     9505.56\n",
       "2     8042.21     8145.35\n",
       "3     5677.40     5811.16\n",
       "4     5986.26     6183.95"
      ]
     },
     "execution_count": 41,
     "metadata": {},
     "output_type": "execute_result"
    }
   ],
   "source": [
    "scatter_data = df[['Small Bags','Total Bags']]\n",
    "scatter_data.head()"
   ]
  },
  {
   "cell_type": "code",
   "execution_count": 42,
   "metadata": {},
   "outputs": [
    {
     "data": {
      "text/plain": [
       "<seaborn.axisgrid.JointGrid at 0x7f6b7cbec850>"
      ]
     },
     "execution_count": 42,
     "metadata": {},
     "output_type": "execute_result"
    },
    {
     "data": {
      "image/png": "[encoded data removed]",
      "text/plain": [
       "<Figure size 432x432 with 3 Axes>"
      ]
     },
     "metadata": {
      "needs_background": "light"
     },
     "output_type": "display_data"
    }
   ],
   "source": [
    "sns.jointplot(x='Small Bags', y='Total Bags', data = scatter_data)"
   ]
  },
  {
   "cell_type": "code",
   "execution_count": 43,
   "metadata": {},
   "outputs": [
    {
     "data": {
      "text/plain": [
       "<seaborn.axisgrid.JointGrid at 0x7f6b7c9a5e50>"
      ]
     },
     "execution_count": 43,
     "metadata": {},
     "output_type": "execute_result"
    },
    {
     "data": {
      "image/png": "[encoded data removed]",
      "text/plain": [
       "<Figure size 432x432 with 3 Axes>"
      ]
     },
     "metadata": {
      "needs_background": "light"
     },
     "output_type": "display_data"
    }
   ],
   "source": [
    "sns.jointplot(x='Small Bags', y='Total Bags', data = scatter_data, kind='hex')"
   ]
  },
  {
   "cell_type": "code",
   "execution_count": 44,
   "metadata": {},
   "outputs": [
    {
     "name": "stdout",
     "output_type": "stream",
     "text": [
      "MSSubClass: Identifies the type of dwelling involved in the sale.\t\n",
      "\n",
      "\n",
      "\n",
      "        20\t1-STORY 1946 & NEWER ALL STYLES\n",
      "\n",
      "        30\t1-STORY 1945 & OLDER\n",
      "\n",
      "        40\t1-STORY W/FINISHED ATTIC ALL AGES\n",
      "\n",
      "        45\t1-1/2 STORY - UNFINISHED ALL AGES\n",
      "\n",
      "        50\t1-1/2 STORY FINISHED ALL AGES\n",
      "\n",
      "        60\t2-STORY 1946 & NEWER\n",
      "\n",
      "        70\t2-STORY 1945 & OLDER\n",
      "\n",
      "        75\t2-1/2 STORY ALL AGES\n",
      "\n",
      "        80\tSPLIT OR MULTI-LEVEL\n",
      "\n",
      "        85\tSPLIT FOYER\n",
      "\n",
      "        90\tDUPLEX - ALL STYLES AND AGES\n",
      "\n",
      "       120\t1-STORY PUD (Planned Unit Development) - 1946 & NEWER\n",
      "\n",
      "       150\t1-1/2 STORY PUD - ALL AGES\n",
      "\n",
      "       160\t2-STORY PUD - 1946 & NEWER\n",
      "\n",
      "       180\tPUD - MULTILEVEL - INCL SPLIT LEV/FOYER\n",
      "\n",
      "       190\t2 FAMILY CONVERSION - ALL STYLES AND AGES\n",
      "\n",
      "\n",
      "\n",
      "MSZoning: Identifies the general zoning classification of the sale.\n",
      "\n",
      "\t\t\n",
      "\n",
      "       A\tAgriculture\n",
      "\n",
      "       C\tCommercial\n",
      "\n",
      "       FV\tFloating Village Residential\n",
      "\n",
      "       I\tIndustrial\n",
      "\n",
      "       RH\tResidential High Density\n",
      "\n",
      "       RL\tResidential Low Density\n",
      "\n",
      "       RP\tResidential Low Density Park \n",
      "\n",
      "       RM\tResidential Medium Density\n",
      "\n",
      "\t\n",
      "\n",
      "LotFrontage: Linear feet of street connected to property\n",
      "\n",
      "\n",
      "\n",
      "LotArea: Lot size in square feet\n",
      "\n",
      "\n",
      "\n",
      "Street: Type of road access to property\n",
      "\n",
      "\n",
      "\n",
      "       Grvl\tGravel\t\n",
      "\n",
      "       Pave\tPaved\n",
      "\n",
      "       \t\n",
      "\n",
      "Alley: Type of alley access to property\n",
      "\n",
      "\n",
      "\n",
      "       Grvl\tGravel\n",
      "\n",
      "       Pave\tPaved\n",
      "\n",
      "       NA \tNo alley access\n",
      "\n",
      "\t\t\n",
      "\n",
      "LotShape: General shape of property\n",
      "\n",
      "\n",
      "\n",
      "       Reg\tRegular\t\n",
      "\n",
      "       IR1\tSlightly irregular\n",
      "\n",
      "       IR2\tModerately Irregular\n",
      "\n",
      "       IR3\tIrregular\n",
      "\n",
      "       \n",
      "\n",
      "LandContour: Flatness of the property\n",
      "\n",
      "\n",
      "\n",
      "       Lvl\tNear Flat/Level\t\n",
      "\n",
      "       Bnk\tBanked - Quick and significant rise from street grade to building\n",
      "\n",
      "       HLS\tHillside - Significant slope from side to side\n",
      "\n",
      "       Low\tDepression\n",
      "\n",
      "\t\t\n",
      "\n",
      "Utilities: Type of utilities available\n",
      "\n",
      "\t\t\n",
      "\n",
      "       AllPub\tAll public Utilities (E,G,W,& S)\t\n",
      "\n",
      "       NoSewr\tElectricity, Gas, and Water (Septic Tank)\n",
      "\n",
      "       NoSeWa\tElectricity and Gas Only\n",
      "\n",
      "       ELO\tElectricity only\t\n",
      "\n",
      "\t\n",
      "\n",
      "LotConfig: Lot configuration\n",
      "\n",
      "\n",
      "\n",
      "       Inside\tInside lot\n",
      "\n",
      "       Corner\tCorner lot\n",
      "\n",
      "       CulDSac\tCul-de-sac\n",
      "\n",
      "       FR2\tFrontage on 2 sides of property\n",
      "\n",
      "       FR3\tFrontage on 3 sides of property\n",
      "\n",
      "\t\n",
      "\n",
      "LandSlope: Slope of property\n",
      "\n",
      "\t\t\n",
      "\n",
      "       Gtl\tGentle slope\n",
      "\n",
      "       Mod\tModerate Slope\t\n",
      "\n",
      "       Sev\tSevere Slope\n",
      "\n",
      "\t\n",
      "\n",
      "Neighborhood: Physical locations within Ames city limits\n",
      "\n",
      "\n",
      "\n",
      "       Blmngtn\tBloomington Heights\n",
      "\n",
      "       Blueste\tBluestem\n",
      "\n",
      "       BrDale\tBriardale\n",
      "\n",
      "       BrkSide\tBrookside\n",
      "\n",
      "       ClearCr\tClear Creek\n",
      "\n",
      "       CollgCr\tCollege Creek\n",
      "\n",
      "       Crawfor\tCrawford\n",
      "\n",
      "       Edwards\tEdwards\n",
      "\n",
      "       Gilbert\tGilbert\n",
      "\n",
      "       IDOTRR\tIowa DOT and Rail Road\n",
      "\n",
      "       MeadowV\tMeadow Village\n",
      "\n",
      "       Mitchel\tMitchell\n",
      "\n",
      "       Names\tNorth Ames\n",
      "\n",
      "       NoRidge\tNorthridge\n",
      "\n",
      "       NPkVill\tNorthpark Villa\n",
      "\n",
      "       NridgHt\tNorthridge Heights\n",
      "\n",
      "       NWAmes\tNorthwest Ames\n",
      "\n",
      "       OldTown\tOld Town\n",
      "\n",
      "       SWISU\tSouth & West of Iowa State University\n",
      "\n",
      "       Sawyer\tSawyer\n",
      "\n",
      "       SawyerW\tSawyer West\n",
      "\n",
      "       Somerst\tSomerset\n",
      "\n",
      "       StoneBr\tStone Brook\n",
      "\n",
      "       Timber\tTimberland\n",
      "\n",
      "       Veenker\tVeenker\n",
      "\n",
      "\t\t\t\n",
      "\n",
      "Condition1: Proximity to various conditions\n",
      "\n",
      "\t\n",
      "\n",
      "       Artery\tAdjacent to arterial street\n",
      "\n",
      "       Feedr\tAdjacent to feeder street\t\n",
      "\n",
      "       Norm\tNormal\t\n",
      "\n",
      "       RRNn\tWithin 200' of North-South Railroad\n",
      "\n",
      "       RRAn\tAdjacent to North-South Railroad\n",
      "\n",
      "       PosN\tNear positive off-site feature--park, greenbelt, etc.\n",
      "\n",
      "       PosA\tAdjacent to postive off-site feature\n",
      "\n",
      "       RRNe\tWithin 200' of East-West Railroad\n",
      "\n",
      "       RRAe\tAdjacent to East-West Railroad\n",
      "\n",
      "\t\n",
      "\n",
      "Condition2: Proximity to various conditions (if more than one is present)\n",
      "\n",
      "\t\t\n",
      "\n",
      "       Artery\tAdjacent to arterial street\n",
      "\n",
      "       Feedr\tAdjacent to feeder street\t\n",
      "\n",
      "       Norm\tNormal\t\n",
      "\n",
      "       RRNn\tWithin 200' of North-South Railroad\n",
      "\n",
      "       RRAn\tAdjacent to North-South Railroad\n",
      "\n",
      "       PosN\tNear positive off-site feature--park, greenbelt, etc.\n",
      "\n",
      "       PosA\tAdjacent to postive off-site feature\n",
      "\n",
      "       RRNe\tWithin 200' of East-West Railroad\n",
      "\n",
      "       RRAe\tAdjacent to East-West Railroad\n",
      "\n",
      "\t\n",
      "\n",
      "BldgType: Type of dwelling\n",
      "\n",
      "\t\t\n",
      "\n",
      "       1Fam\tSingle-family Detached\t\n",
      "\n",
      "       2FmCon\tTwo-family Conversion; originally built as one-family dwelling\n",
      "\n",
      "       Duplx\tDuplex\n",
      "\n",
      "       TwnhsE\tTownhouse End Unit\n",
      "\n",
      "       TwnhsI\tTownhouse Inside Unit\n",
      "\n",
      "\t\n",
      "\n",
      "HouseStyle: Style of dwelling\n",
      "\n",
      "\t\n",
      "\n",
      "       1Story\tOne story\n",
      "\n",
      "       1.5Fin\tOne and one-half story: 2nd level finished\n",
      "\n",
      "       1.5Unf\tOne and one-half story: 2nd level unfinished\n",
      "\n",
      "       2Story\tTwo story\n",
      "\n",
      "       2.5Fin\tTwo and one-half story: 2nd level finished\n",
      "\n",
      "       2.5Unf\tTwo and one-half story: 2nd level unfinished\n",
      "\n",
      "       SFoyer\tSplit Foyer\n",
      "\n",
      "       SLvl\tSplit Level\n",
      "\n",
      "\t\n",
      "\n",
      "OverallQual: Rates the overall material and finish of the house\n",
      "\n",
      "\n",
      "\n",
      "       10\tVery Excellent\n",
      "\n",
      "       9\tExcellent\n",
      "\n",
      "       8\tVery Good\n",
      "\n",
      "       7\tGood\n",
      "\n",
      "       6\tAbove Average\n",
      "\n",
      "       5\tAverage\n",
      "\n",
      "       4\tBelow Average\n",
      "\n",
      "       3\tFair\n",
      "\n",
      "       2\tPoor\n",
      "\n",
      "       1\tVery Poor\n",
      "\n",
      "\t\n",
      "\n",
      "OverallCond: Rates the overall condition of the house\n",
      "\n",
      "\n",
      "\n",
      "       10\tVery Excellent\n",
      "\n",
      "       9\tExcellent\n",
      "\n",
      "       8\tVery Good\n",
      "\n",
      "       7\tGood\n",
      "\n",
      "       6\tAbove Average\t\n",
      "\n",
      "       5\tAverage\n",
      "\n",
      "       4\tBelow Average\t\n",
      "\n",
      "       3\tFair\n",
      "\n",
      "       2\tPoor\n",
      "\n",
      "       1\tVery Poor\n",
      "\n",
      "\t\t\n",
      "\n",
      "YearBuilt: Original construction date\n",
      "\n",
      "\n",
      "\n",
      "YearRemodAdd: Remodel date (same as construction date if no remodeling or additions)\n",
      "\n",
      "\n",
      "\n",
      "RoofStyle: Type of roof\n",
      "\n",
      "\n",
      "\n",
      "       Flat\tFlat\n",
      "\n",
      "       Gable\tGable\n",
      "\n",
      "       Gambrel\tGabrel (Barn)\n",
      "\n",
      "       Hip\tHip\n",
      "\n",
      "       Mansard\tMansard\n",
      "\n",
      "       Shed\tShed\n",
      "\n",
      "\t\t\n",
      "\n",
      "RoofMatl: Roof material\n",
      "\n",
      "\n",
      "\n",
      "       ClyTile\tClay or Tile\n",
      "\n",
      "       CompShg\tStandard (Composite) Shingle\n",
      "\n",
      "       Membran\tMembrane\n",
      "\n",
      "       Metal\tMetal\n",
      "\n",
      "       Roll\tRoll\n",
      "\n",
      "       Tar&Grv\tGravel & Tar\n",
      "\n",
      "       WdShake\tWood Shakes\n",
      "\n",
      "       WdShngl\tWood Shingles\n",
      "\n",
      "\t\t\n",
      "\n",
      "Exterior1st: Exterior covering on house\n",
      "\n",
      "\n",
      "\n",
      "       AsbShng\tAsbestos Shingles\n",
      "\n",
      "       AsphShn\tAsphalt Shingles\n",
      "\n",
      "       BrkComm\tBrick Common\n",
      "\n",
      "       BrkFace\tBrick Face\n",
      "\n",
      "       CBlock\tCinder Block\n",
      "\n",
      "       CemntBd\tCement Board\n",
      "\n",
      "       HdBoard\tHard Board\n",
      "\n",
      "       ImStucc\tImitation Stucco\n",
      "\n",
      "       MetalSd\tMetal Siding\n",
      "\n",
      "       Other\tOther\n",
      "\n",
      "       Plywood\tPlywood\n",
      "\n",
      "       PreCast\tPreCast\t\n",
      "\n",
      "       Stone\tStone\n",
      "\n",
      "       Stucco\tStucco\n",
      "\n",
      "       VinylSd\tVinyl Siding\n",
      "\n",
      "       Wd Sdng\tWood Siding\n",
      "\n",
      "       WdShing\tWood Shingles\n",
      "\n",
      "\t\n",
      "\n",
      "Exterior2nd: Exterior covering on house (if more than one material)\n",
      "\n",
      "\n",
      "\n",
      "       AsbShng\tAsbestos Shingles\n",
      "\n",
      "       AsphShn\tAsphalt Shingles\n",
      "\n",
      "       BrkComm\tBrick Common\n",
      "\n",
      "       BrkFace\tBrick Face\n",
      "\n",
      "       CBlock\tCinder Block\n",
      "\n",
      "       CemntBd\tCement Board\n",
      "\n",
      "       HdBoard\tHard Board\n",
      "\n",
      "       ImStucc\tImitation Stucco\n",
      "\n",
      "       MetalSd\tMetal Siding\n",
      "\n",
      "       Other\tOther\n",
      "\n",
      "       Plywood\tPlywood\n",
      "\n",
      "       PreCast\tPreCast\n",
      "\n",
      "       Stone\tStone\n",
      "\n",
      "       Stucco\tStucco\n",
      "\n",
      "       VinylSd\tVinyl Siding\n",
      "\n",
      "       Wd Sdng\tWood Siding\n",
      "\n",
      "       WdShing\tWood Shingles\n",
      "\n",
      "\t\n",
      "\n",
      "MasVnrType: Masonry veneer type\n",
      "\n",
      "\n",
      "\n",
      "       BrkCmn\tBrick Common\n",
      "\n",
      "       BrkFace\tBrick Face\n",
      "\n",
      "       CBlock\tCinder Block\n",
      "\n",
      "       None\tNone\n",
      "\n",
      "       Stone\tStone\n",
      "\n",
      "\t\n",
      "\n",
      "MasVnrArea: Masonry veneer area in square feet\n",
      "\n",
      "\n",
      "\n",
      "ExterQual: Evaluates the quality of the material on the exterior \n",
      "\n",
      "\t\t\n",
      "\n",
      "       Ex\tExcellent\n",
      "\n",
      "       Gd\tGood\n",
      "\n",
      "       TA\tAverage/Typical\n",
      "\n",
      "       Fa\tFair\n",
      "\n",
      "       Po\tPoor\n",
      "\n",
      "\t\t\n",
      "\n",
      "ExterCond: Evaluates the present condition of the material on the exterior\n",
      "\n",
      "\t\t\n",
      "\n",
      "       Ex\tExcellent\n",
      "\n",
      "       Gd\tGood\n",
      "\n",
      "       TA\tAverage/Typical\n",
      "\n",
      "       Fa\tFair\n",
      "\n",
      "       Po\tPoor\n",
      "\n",
      "\t\t\n",
      "\n",
      "Foundation: Type of foundation\n",
      "\n",
      "\t\t\n",
      "\n",
      "       BrkTil\tBrick & Tile\n",
      "\n",
      "       CBlock\tCinder Block\n",
      "\n",
      "       PConc\tPoured Contrete\t\n",
      "\n",
      "       Slab\tSlab\n",
      "\n",
      "       Stone\tStone\n",
      "\n",
      "       Wood\tWood\n",
      "\n",
      "\t\t\n",
      "\n",
      "BsmtQual: Evaluates the height of the basement\n",
      "\n",
      "\n",
      "\n",
      "       Ex\tExcellent (100+ inches)\t\n",
      "\n",
      "       Gd\tGood (90-99 inches)\n",
      "\n",
      "       TA\tTypical (80-89 inches)\n",
      "\n",
      "       Fa\tFair (70-79 inches)\n",
      "\n",
      "       Po\tPoor (<70 inches\n",
      "\n",
      "       NA\tNo Basement\n",
      "\n",
      "\t\t\n",
      "\n",
      "BsmtCond: Evaluates the general condition of the basement\n",
      "\n",
      "\n",
      "\n",
      "       Ex\tExcellent\n",
      "\n",
      "       Gd\tGood\n",
      "\n",
      "       TA\tTypical - slight dampness allowed\n",
      "\n",
      "       Fa\tFair - dampness or some cracking or settling\n",
      "\n",
      "       Po\tPoor - Severe cracking, settling, or wetness\n",
      "\n",
      "       NA\tNo Basement\n",
      "\n",
      "\t\n",
      "\n",
      "BsmtExposure: Refers to walkout or garden level walls\n",
      "\n",
      "\n",
      "\n",
      "       Gd\tGood Exposure\n",
      "\n",
      "       Av\tAverage Exposure (split levels or foyers typically score average or above)\t\n",
      "\n",
      "       Mn\tMimimum Exposure\n",
      "\n",
      "       No\tNo Exposure\n",
      "\n",
      "       NA\tNo Basement\n",
      "\n",
      "\t\n",
      "\n",
      "BsmtFinType1: Rating of basement finished area\n",
      "\n",
      "\n",
      "\n",
      "       GLQ\tGood Living Quarters\n",
      "\n",
      "       ALQ\tAverage Living Quarters\n",
      "\n",
      "       BLQ\tBelow Average Living Quarters\t\n",
      "\n",
      "       Rec\tAverage Rec Room\n",
      "\n",
      "       LwQ\tLow Quality\n",
      "\n",
      "       Unf\tUnfinshed\n",
      "\n",
      "       NA\tNo Basement\n",
      "\n",
      "\t\t\n",
      "\n",
      "BsmtFinSF1: Type 1 finished square feet\n",
      "\n",
      "\n",
      "\n",
      "BsmtFinType2: Rating of basement finished area (if multiple types)\n",
      "\n",
      "\n",
      "\n",
      "       GLQ\tGood Living Quarters\n",
      "\n",
      "       ALQ\tAverage Living Quarters\n",
      "\n",
      "       BLQ\tBelow Average Living Quarters\t\n",
      "\n",
      "       Rec\tAverage Rec Room\n",
      "\n",
      "       LwQ\tLow Quality\n",
      "\n",
      "       Unf\tUnfinshed\n",
      "\n",
      "       NA\tNo Basement\n",
      "\n",
      "\n",
      "\n",
      "BsmtFinSF2: Type 2 finished square feet\n",
      "\n",
      "\n",
      "\n",
      "BsmtUnfSF: Unfinished square feet of basement area\n",
      "\n",
      "\n",
      "\n",
      "TotalBsmtSF: Total square feet of basement area\n",
      "\n",
      "\n",
      "\n",
      "Heating: Type of heating\n",
      "\n",
      "\t\t\n",
      "\n",
      "       Floor\tFloor Furnace\n",
      "\n",
      "       GasA\tGas forced warm air furnace\n",
      "\n",
      "       GasW\tGas hot water or steam heat\n",
      "\n",
      "       Grav\tGravity furnace\t\n",
      "\n",
      "       OthW\tHot water or steam heat other than gas\n",
      "\n",
      "       Wall\tWall furnace\n",
      "\n",
      "\t\t\n",
      "\n",
      "HeatingQC: Heating quality and condition\n",
      "\n",
      "\n",
      "\n",
      "       Ex\tExcellent\n",
      "\n",
      "       Gd\tGood\n",
      "\n",
      "       TA\tAverage/Typical\n",
      "\n",
      "       Fa\tFair\n",
      "\n",
      "       Po\tPoor\n",
      "\n",
      "\t\t\n",
      "\n",
      "CentralAir: Central air conditioning\n",
      "\n",
      "\n",
      "\n",
      "       N\tNo\n",
      "\n",
      "       Y\tYes\n",
      "\n",
      "\t\t\n",
      "\n",
      "Electrical: Electrical system\n",
      "\n",
      "\n",
      "\n",
      "       SBrkr\tStandard Circuit Breakers & Romex\n",
      "\n",
      "       FuseA\tFuse Box over 60 AMP and all Romex wiring (Average)\t\n",
      "\n",
      "       FuseF\t60 AMP Fuse Box and mostly Romex wiring (Fair)\n",
      "\n",
      "       FuseP\t60 AMP Fuse Box and mostly knob & tube wiring (poor)\n",
      "\n",
      "       Mix\tMixed\n",
      "\n",
      "\t\t\n",
      "\n",
      "1stFlrSF: First Floor square feet\n",
      "\n",
      " \n",
      "\n",
      "2ndFlrSF: Second floor square feet\n",
      "\n",
      "\n",
      "\n",
      "LowQualFinSF: Low quality finished square feet (all floors)\n",
      "\n",
      "\n",
      "\n",
      "GrLivArea: Above grade (ground) living area square feet\n",
      "\n",
      "\n",
      "\n",
      "BsmtFullBath: Basement full bathrooms\n",
      "\n",
      "\n",
      "\n",
      "BsmtHalfBath: Basement half bathrooms\n",
      "\n",
      "\n",
      "\n",
      "FullBath: Full bathrooms above grade\n",
      "\n",
      "\n",
      "\n",
      "HalfBath: Half baths above grade\n",
      "\n",
      "\n",
      "\n",
      "Bedroom: Bedrooms above grade (does NOT include basement bedrooms)\n",
      "\n",
      "\n",
      "\n",
      "Kitchen: Kitchens above grade\n",
      "\n",
      "\n",
      "\n",
      "KitchenQual: Kitchen quality\n",
      "\n",
      "\n",
      "\n",
      "       Ex\tExcellent\n",
      "\n",
      "       Gd\tGood\n",
      "\n",
      "       TA\tTypical/Average\n",
      "\n",
      "       Fa\tFair\n",
      "\n",
      "       Po\tPoor\n",
      "\n",
      "       \t\n",
      "\n",
      "TotRmsAbvGrd: Total rooms above grade (does not include bathrooms)\n",
      "\n",
      "\n",
      "\n",
      "Functional: Home functionality (Assume typical unless deductions are warranted)\n",
      "\n",
      "\n",
      "\n",
      "       Typ\tTypical Functionality\n",
      "\n",
      "       Min1\tMinor Deductions 1\n",
      "\n",
      "       Min2\tMinor Deductions 2\n",
      "\n",
      "       Mod\tModerate Deductions\n",
      "\n",
      "       Maj1\tMajor Deductions 1\n",
      "\n",
      "       Maj2\tMajor Deductions 2\n",
      "\n",
      "       Sev\tSeverely Damaged\n",
      "\n",
      "       Sal\tSalvage only\n",
      "\n",
      "\t\t\n",
      "\n",
      "Fireplaces: Number of fireplaces\n",
      "\n",
      "\n",
      "\n",
      "FireplaceQu: Fireplace quality\n",
      "\n",
      "\n",
      "\n",
      "       Ex\tExcellent - Exceptional Masonry Fireplace\n",
      "\n",
      "       Gd\tGood - Masonry Fireplace in main level\n",
      "\n",
      "       TA\tAverage - Prefabricated Fireplace in main living area or Masonry Fireplace in basement\n",
      "\n",
      "       Fa\tFair - Prefabricated Fireplace in basement\n",
      "\n",
      "       Po\tPoor - Ben Franklin Stove\n",
      "\n",
      "       NA\tNo Fireplace\n",
      "\n",
      "\t\t\n",
      "\n",
      "GarageType: Garage location\n",
      "\n",
      "\t\t\n",
      "\n",
      "       2Types\tMore than one type of garage\n",
      "\n",
      "       Attchd\tAttached to home\n",
      "\n",
      "       Basment\tBasement Garage\n",
      "\n",
      "       BuiltIn\tBuilt-In (Garage part of house - typically has room above garage)\n",
      "\n",
      "       CarPort\tCar Port\n",
      "\n",
      "       Detchd\tDetached from home\n",
      "\n",
      "       NA\tNo Garage\n",
      "\n",
      "\t\t\n",
      "\n",
      "GarageYrBlt: Year garage was built\n",
      "\n",
      "\t\t\n",
      "\n",
      "GarageFinish: Interior finish of the garage\n",
      "\n",
      "\n",
      "\n",
      "       Fin\tFinished\n",
      "\n",
      "       RFn\tRough Finished\t\n",
      "\n",
      "       Unf\tUnfinished\n",
      "\n",
      "       NA\tNo Garage\n",
      "\n",
      "\t\t\n",
      "\n",
      "GarageCars: Size of garage in car capacity\n",
      "\n",
      "\n",
      "\n",
      "GarageArea: Size of garage in square feet\n",
      "\n",
      "\n",
      "\n",
      "GarageQual: Garage quality\n",
      "\n",
      "\n",
      "\n",
      "       Ex\tExcellent\n",
      "\n",
      "       Gd\tGood\n",
      "\n",
      "       TA\tTypical/Average\n",
      "\n",
      "       Fa\tFair\n",
      "\n",
      "       Po\tPoor\n",
      "\n",
      "       NA\tNo Garage\n",
      "\n",
      "\t\t\n",
      "\n",
      "GarageCond: Garage condition\n",
      "\n",
      "\n",
      "\n",
      "       Ex\tExcellent\n",
      "\n",
      "       Gd\tGood\n",
      "\n",
      "       TA\tTypical/Average\n",
      "\n",
      "       Fa\tFair\n",
      "\n",
      "       Po\tPoor\n",
      "\n",
      "       NA\tNo Garage\n",
      "\n",
      "\t\t\n",
      "\n",
      "PavedDrive: Paved driveway\n",
      "\n",
      "\n",
      "\n",
      "       Y\tPaved \n",
      "\n",
      "       P\tPartial Pavement\n",
      "\n",
      "       N\tDirt/Gravel\n",
      "\n",
      "\t\t\n",
      "\n",
      "WoodDeckSF: Wood deck area in square feet\n",
      "\n",
      "\n",
      "\n",
      "OpenPorchSF: Open porch area in square feet\n",
      "\n",
      "\n",
      "\n",
      "EnclosedPorch: Enclosed porch area in square feet\n",
      "\n",
      "\n",
      "\n",
      "3SsnPorch: Three season porch area in square feet\n",
      "\n",
      "\n",
      "\n",
      "ScreenPorch: Screen porch area in square feet\n",
      "\n",
      "\n",
      "\n",
      "PoolArea: Pool area in square feet\n",
      "\n",
      "\n",
      "\n",
      "PoolQC: Pool quality\n",
      "\n",
      "\t\t\n",
      "\n",
      "       Ex\tExcellent\n",
      "\n",
      "       Gd\tGood\n",
      "\n",
      "       TA\tAverage/Typical\n",
      "\n",
      "       Fa\tFair\n",
      "\n",
      "       NA\tNo Pool\n",
      "\n",
      "\t\t\n",
      "\n",
      "Fence: Fence quality\n",
      "\n",
      "\t\t\n",
      "\n",
      "       GdPrv\tGood Privacy\n",
      "\n",
      "       MnPrv\tMinimum Privacy\n",
      "\n",
      "       GdWo\tGood Wood\n",
      "\n",
      "       MnWw\tMinimum Wood/Wire\n",
      "\n",
      "       NA\tNo Fence\n",
      "\n",
      "\t\n",
      "\n",
      "MiscFeature: Miscellaneous feature not covered in other categories\n",
      "\n",
      "\t\t\n",
      "\n",
      "       Elev\tElevator\n",
      "\n",
      "       Gar2\t2nd Garage (if not described in garage section)\n",
      "\n",
      "       Othr\tOther\n",
      "\n",
      "       Shed\tShed (over 100 SF)\n",
      "\n",
      "       TenC\tTennis Court\n",
      "\n",
      "       NA\tNone\n",
      "\n",
      "\t\t\n",
      "\n",
      "MiscVal: $Value of miscellaneous feature\n",
      "\n",
      "\n",
      "\n",
      "MoSold: Month Sold (MM)\n",
      "\n",
      "\n",
      "\n",
      "YrSold: Year Sold (YYYY)\n",
      "\n",
      "\n",
      "\n",
      "SaleType: Type of sale\n",
      "\n",
      "\t\t\n",
      "\n",
      "       WD \tWarranty Deed - Conventional\n",
      "\n",
      "       CWD\tWarranty Deed - Cash\n",
      "\n",
      "       VWD\tWarranty Deed - VA Loan\n",
      "\n",
      "       New\tHome just constructed and sold\n",
      "\n",
      "       COD\tCourt Officer Deed/Estate\n",
      "\n",
      "       Con\tContract 15% Down payment regular terms\n",
      "\n",
      "       ConLw\tContract Low Down payment and low interest\n",
      "\n",
      "       ConLI\tContract Low Interest\n",
      "\n",
      "       ConLD\tContract Low Down\n",
      "\n",
      "       Oth\tOther\n",
      "\n",
      "\t\t\n",
      "\n",
      "SaleCondition: Condition of sale\n",
      "\n",
      "\n",
      "\n",
      "       Normal\tNormal Sale\n",
      "\n",
      "       Abnorml\tAbnormal Sale -  trade, foreclosure, short sale\n",
      "\n",
      "       AdjLand\tAdjoining Land Purchase\n",
      "\n",
      "       Alloca\tAllocation - two linked properties with separate deeds, typically condo with a garage unit\t\n",
      "\n",
      "       Family\tSale between family members\n",
      "\n",
      "       Partial\tHome was not completed when last assessed (associated with New Homes)\n",
      "\n"
     ]
    }
   ],
   "source": [
    "data = pd.read_csv('data/houses_train.csv')\n",
    "\n",
    "def get_data_desc():\n",
    "    \"\"\"Essa função devolve a descrição completa do dataset\"\"\"\n",
    "    with open('data/data_description.txt','r') as file:\n",
    "        for line in file:\n",
    "            print(line)\n",
    "\n",
    "get_data_desc()"
   ]
  },
  {
   "cell_type": "code",
   "execution_count": 45,
   "metadata": {},
   "outputs": [],
   "source": [
    "house_data = data[['LotArea','LotFrontage','PoolArea','GrLivArea','SalePrice']]"
   ]
  },
  {
   "cell_type": "code",
   "execution_count": 46,
   "metadata": {},
   "outputs": [
    {
     "data": {
      "text/plain": [
       "<seaborn.axisgrid.PairGrid at 0x7f6b7cd21550>"
      ]
     },
     "execution_count": 46,
     "metadata": {},
     "output_type": "execute_result"
    },
    {
     "data": {
      "image/png": "[encoded data removed]",
      "text/plain": [
       "<Figure size 900x900 with 30 Axes>"
      ]
     },
     "metadata": {
      "needs_background": "light"
     },
     "output_type": "display_data"
    }
   ],
   "source": [
    "sns.pairplot(house_data)"
   ]
  },
  {
   "cell_type": "code",
   "execution_count": 47,
   "metadata": {},
   "outputs": [
    {
     "data": {
      "text/html": [
       "<div>\n",
       "<style scoped>\n",
       "    .dataframe tbody tr th:only-of-type {\n",
       "        vertical-align: middle;\n",
       "    }\n",
       "\n",
       "    .dataframe tbody tr th {\n",
       "        vertical-align: top;\n",
       "    }\n",
       "\n",
       "    .dataframe thead th {\n",
       "        text-align: right;\n",
       "    }\n",
       "</style>\n",
       "<table border=\"1\" class=\"dataframe\">\n",
       "  <thead>\n",
       "    <tr style=\"text-align: right;\">\n",
       "      <th></th>\n",
       "      <th>LotArea</th>\n",
       "      <th>LotFrontage</th>\n",
       "      <th>PoolArea</th>\n",
       "      <th>GrLivArea</th>\n",
       "      <th>SalePrice</th>\n",
       "    </tr>\n",
       "  </thead>\n",
       "  <tbody>\n",
       "    <tr>\n",
       "      <th>LotArea</th>\n",
       "      <td>1.000000</td>\n",
       "      <td>0.426095</td>\n",
       "      <td>0.077672</td>\n",
       "      <td>0.263116</td>\n",
       "      <td>0.263843</td>\n",
       "    </tr>\n",
       "    <tr>\n",
       "      <th>LotFrontage</th>\n",
       "      <td>0.426095</td>\n",
       "      <td>1.000000</td>\n",
       "      <td>0.206167</td>\n",
       "      <td>0.402797</td>\n",
       "      <td>0.351799</td>\n",
       "    </tr>\n",
       "    <tr>\n",
       "      <th>PoolArea</th>\n",
       "      <td>0.077672</td>\n",
       "      <td>0.206167</td>\n",
       "      <td>1.000000</td>\n",
       "      <td>0.170205</td>\n",
       "      <td>0.092404</td>\n",
       "    </tr>\n",
       "    <tr>\n",
       "      <th>GrLivArea</th>\n",
       "      <td>0.263116</td>\n",
       "      <td>0.402797</td>\n",
       "      <td>0.170205</td>\n",
       "      <td>1.000000</td>\n",
       "      <td>0.708624</td>\n",
       "    </tr>\n",
       "    <tr>\n",
       "      <th>SalePrice</th>\n",
       "      <td>0.263843</td>\n",
       "      <td>0.351799</td>\n",
       "      <td>0.092404</td>\n",
       "      <td>0.708624</td>\n",
       "      <td>1.000000</td>\n",
       "    </tr>\n",
       "  </tbody>\n",
       "</table>\n",
       "</div>"
      ],
      "text/plain": [
       "              LotArea  LotFrontage  PoolArea  GrLivArea  SalePrice\n",
       "LotArea      1.000000     0.426095  0.077672   0.263116   0.263843\n",
       "LotFrontage  0.426095     1.000000  0.206167   0.402797   0.351799\n",
       "PoolArea     0.077672     0.206167  1.000000   0.170205   0.092404\n",
       "GrLivArea    0.263116     0.402797  0.170205   1.000000   0.708624\n",
       "SalePrice    0.263843     0.351799  0.092404   0.708624   1.000000"
      ]
     },
     "execution_count": 47,
     "metadata": {},
     "output_type": "execute_result"
    }
   ],
   "source": [
    "house_data.corr()"
   ]
  },
  {
   "cell_type": "code",
   "execution_count": 48,
   "metadata": {},
   "outputs": [
    {
     "data": {
      "text/plain": [
       "<matplotlib.axes._subplots.AxesSubplot at 0x7f6b7d155c90>"
      ]
     },
     "execution_count": 48,
     "metadata": {},
     "output_type": "execute_result"
    },
    {
     "data": {
      "image/png": "[encoded data removed]",
      "text/plain": [
       "<Figure size 432x288 with 2 Axes>"
      ]
     },
     "metadata": {
      "needs_background": "light"
     },
     "output_type": "display_data"
    }
   ],
   "source": [
    "sns.heatmap(house_data.corr(),annot=True)"
   ]
  },
  {
   "cell_type": "code",
   "execution_count": 49,
   "metadata": {},
   "outputs": [
    {
     "data": {
      "text/plain": [
       "<seaborn.axisgrid.JointGrid at 0x7f6b7a1ff250>"
      ]
     },
     "execution_count": 49,
     "metadata": {},
     "output_type": "execute_result"
    },
    {
     "data": {
      "image/png": "[encoded data removed]",
      "text/plain": [
       "<Figure size 432x432 with 3 Axes>"
      ]
     },
     "metadata": {
      "needs_background": "light"
     },
     "output_type": "display_data"
    }
   ],
   "source": [
    "sns.jointplot(x = 'GrLivArea', y = 'SalePrice', data = data[['SalePrice','GrLivArea']])"
   ]
  },
  {
   "cell_type": "markdown",
   "metadata": {},
   "source": [
    "# Machine Learning\n",
    "___"
   ]
  },
  {
   "cell_type": "code",
   "execution_count": 50,
   "metadata": {},
   "outputs": [
    {
     "data": {
      "image/png": "[encoded data removed]",
      "text/plain": [
       "<Figure size 1080x576 with 1 Axes>"
      ]
     },
     "metadata": {
      "needs_background": "light"
     },
     "output_type": "display_data"
    }
   ],
   "source": [
    "## verificando os dados para regressão linear simples\n",
    "\n",
    "x = [-2,-1,0,1,3,5,7,9]\n",
    "y = [10,7,5,3,2,-3,-5,-7]\n",
    "\n",
    "plt.figure(figsize=(15,8))\n",
    "sns.scatterplot(x=x,y=y,s=100)\n",
    "plt.show()"
   ]
  },
  {
   "cell_type": "code",
   "execution_count": 51,
   "metadata": {},
   "outputs": [
    {
     "data": {
      "text/plain": [
       "array([[ 1.        , -0.98727131],\n",
       "       [-0.98727131,  1.        ]])"
      ]
     },
     "execution_count": 51,
     "metadata": {},
     "output_type": "execute_result"
    }
   ],
   "source": [
    "## verificando a correlação\n",
    "\n",
    "np.corrcoef(x,y)"
   ]
  },
  {
   "cell_type": "code",
   "execution_count": 52,
   "metadata": {},
   "outputs": [],
   "source": [
    "from sklearn.linear_model import LinearRegression"
   ]
  },
  {
   "cell_type": "code",
   "execution_count": 53,
   "metadata": {},
   "outputs": [],
   "source": [
    "x = np.array([-2,-1,0,1,3,5,7,9]).reshape(-1,1)\n",
    "y = [10,7,5,3,2,-3,-5,-7]"
   ]
  },
  {
   "cell_type": "code",
   "execution_count": 54,
   "metadata": {},
   "outputs": [
    {
     "data": {
      "text/plain": [
       "LinearRegression()"
      ]
     },
     "execution_count": 54,
     "metadata": {},
     "output_type": "execute_result"
    }
   ],
   "source": [
    "lr = LinearRegression()\n",
    "lr.fit(x,y)"
   ]
  },
  {
   "cell_type": "code",
   "execution_count": 55,
   "metadata": {},
   "outputs": [
    {
     "data": {
      "text/plain": [
       "(array([-1.49771689]), 5.6187214611872145)"
      ]
     },
     "execution_count": 55,
     "metadata": {},
     "output_type": "execute_result"
    }
   ],
   "source": [
    "## conferindo o resultado do google sheets\n",
    "\n",
    "from sklearn.linear_model import LinearRegression\n",
    "\n",
    "lr = LinearRegression()\n",
    "lr.fit(x,y)\n",
    "lr.coef_, lr.intercept_"
   ]
  },
  {
   "cell_type": "code",
   "execution_count": 56,
   "metadata": {},
   "outputs": [
    {
     "data": {
      "text/plain": [
       "array([-219.03881279])"
      ]
     },
     "execution_count": 56,
     "metadata": {},
     "output_type": "execute_result"
    }
   ],
   "source": [
    "## utilizando o predict\n",
    "\n",
    "lr.predict([[150]])"
   ]
  },
  {
   "cell_type": "code",
   "execution_count": 57,
   "metadata": {},
   "outputs": [
    {
     "name": "stdout",
     "output_type": "stream",
     "text": [
      "Predizendo para x=0 -- Resultado [5.61872146]\n",
      "Predizendo para x=1 -- Resultado [4.12100457]\n",
      "Predizendo para x=2 -- Resultado [2.62328767]\n",
      "Predizendo para x=3 -- Resultado [1.12557078]\n",
      "Predizendo para x=4 -- Resultado [-0.37214612]\n",
      "Predizendo para x=5 -- Resultado [-1.86986301]\n",
      "Predizendo para x=6 -- Resultado [-3.36757991]\n",
      "Predizendo para x=7 -- Resultado [-4.8652968]\n",
      "Predizendo para x=8 -- Resultado [-6.3630137]\n",
      "Predizendo para x=9 -- Resultado [-7.86073059]\n"
     ]
    }
   ],
   "source": [
    "## gerando várias predições\n",
    "\n",
    "for i in range(10):\n",
    "  print(f'Predizendo para x={i} -- Resultado {lr.predict([[i]])}')"
   ]
  },
  {
   "cell_type": "code",
   "execution_count": 58,
   "metadata": {},
   "outputs": [
    {
     "data": {
      "image/png": "[encoded data removed]",
      "text/plain": [
       "<Figure size 1080x576 with 1 Axes>"
      ]
     },
     "metadata": {
      "needs_background": "light"
     },
     "output_type": "display_data"
    }
   ],
   "source": [
    "## verificando o modelo montado\n",
    "\n",
    "x = [-2,-1,0,1,3,5,7,9]\n",
    "y = [10,7,5,3,2,-3,-5,-7]\n",
    "\n",
    "y_pred = [lr.predict([[x]])[0] for x in x]\n",
    "\n",
    "plt.figure(figsize=(15,8))\n",
    "sns.scatterplot(x=x,y=y,s=100)\n",
    "sns.lineplot(x=x,y=y_pred,color='tab:orange')\n",
    "plt.show()"
   ]
  },
  {
   "cell_type": "code",
   "execution_count": 59,
   "metadata": {},
   "outputs": [
    {
     "data": {
      "text/plain": [
       "(array([-1.54973822]), 5.6187214611872145)"
      ]
     },
     "execution_count": 59,
     "metadata": {},
     "output_type": "execute_result"
    }
   ],
   "source": [
    "## separar em treino e teste\n",
    "\n",
    "x_test = np.array([0,1]).reshape(-1,1)\n",
    "y_test = [5,3]\n",
    "\n",
    "x_treino = np.array([-2,-1,3,5,7,9]).reshape(-1,1)\n",
    "y_treino = [10,7,2,-3,-5,-7]\n",
    "\n",
    "lr2 = LinearRegression()\n",
    "lr2.fit(x_treino,y_treino)\n",
    "lr2.coef_, lr.intercept_"
   ]
  },
  {
   "cell_type": "code",
   "execution_count": 60,
   "metadata": {},
   "outputs": [],
   "source": [
    "## definido nosso_mean_squared_error\n",
    "\n",
    "def nosso_mean_squared_error(y_real,y_pred): \n",
    "    return ((y_real - y_pred)**2).mean()"
   ]
  },
  {
   "cell_type": "code",
   "execution_count": 61,
   "metadata": {},
   "outputs": [
    {
     "data": {
      "text/plain": [
       "1.7822275922747606"
      ]
     },
     "execution_count": 61,
     "metadata": {},
     "output_type": "execute_result"
    }
   ],
   "source": [
    "## calculando nosso_mean_squared_error\n",
    "\n",
    "valores_reais_de_y = np.array([5,3])\n",
    "valores_preditos_de_y = np.array([6.09075044, 4.54101222])\n",
    "\n",
    "nosso_mean_squared_error(valores_reais_de_y,valores_preditos_de_y)"
   ]
  },
  {
   "cell_type": "code",
   "execution_count": 62,
   "metadata": {},
   "outputs": [
    {
     "data": {
      "text/plain": [
       "1.782227582699063"
      ]
     },
     "execution_count": 62,
     "metadata": {},
     "output_type": "execute_result"
    }
   ],
   "source": [
    "## usando a API do sklearn\n",
    "\n",
    "from sklearn.metrics import mean_squared_error\n",
    "\n",
    "mean_squared_error(y_test,lr2.predict(x_test))"
   ]
  },
  {
   "cell_type": "markdown",
   "metadata": {},
   "source": [
    "## AMES HOUSING\n",
    "___"
   ]
  },
  {
   "cell_type": "markdown",
   "metadata": {},
   "source": [
    "### Sem pre-processamento"
   ]
  },
  {
   "cell_type": "code",
   "execution_count": 63,
   "metadata": {},
   "outputs": [],
   "source": [
    "colunas = data.corr().SalePrice.sort_values(ascending=False)[:10].index"
   ]
  },
  {
   "cell_type": "code",
   "execution_count": 64,
   "metadata": {},
   "outputs": [],
   "source": [
    "x = data[colunas].drop(['SalePrice'],axis=1)\n",
    "y = data.SalePrice"
   ]
  },
  {
   "cell_type": "code",
   "execution_count": 65,
   "metadata": {},
   "outputs": [],
   "source": [
    "from sklearn.model_selection import train_test_split"
   ]
  },
  {
   "cell_type": "code",
   "execution_count": 66,
   "metadata": {},
   "outputs": [],
   "source": [
    "x_train,x_test,y_train,y_test = train_test_split(x,y, test_size = 0.25, random_state=43)"
   ]
  },
  {
   "cell_type": "code",
   "execution_count": 67,
   "metadata": {},
   "outputs": [
    {
     "data": {
      "text/plain": [
       "LinearRegression()"
      ]
     },
     "execution_count": 67,
     "metadata": {},
     "output_type": "execute_result"
    }
   ],
   "source": [
    "lr = LinearRegression()\n",
    "lr.fit(x_train,y_train)"
   ]
  },
  {
   "cell_type": "code",
   "execution_count": 68,
   "metadata": {},
   "outputs": [
    {
     "data": {
      "text/html": [
       "<div>\n",
       "<style scoped>\n",
       "    .dataframe tbody tr th:only-of-type {\n",
       "        vertical-align: middle;\n",
       "    }\n",
       "\n",
       "    .dataframe tbody tr th {\n",
       "        vertical-align: top;\n",
       "    }\n",
       "\n",
       "    .dataframe thead th {\n",
       "        text-align: right;\n",
       "    }\n",
       "</style>\n",
       "<table border=\"1\" class=\"dataframe\">\n",
       "  <thead>\n",
       "    <tr style=\"text-align: right;\">\n",
       "      <th></th>\n",
       "      <th>OverallQual</th>\n",
       "      <th>GrLivArea</th>\n",
       "      <th>GarageCars</th>\n",
       "      <th>GarageArea</th>\n",
       "      <th>TotalBsmtSF</th>\n",
       "      <th>1stFlrSF</th>\n",
       "      <th>FullBath</th>\n",
       "      <th>TotRmsAbvGrd</th>\n",
       "      <th>YearBuilt</th>\n",
       "    </tr>\n",
       "  </thead>\n",
       "  <tbody>\n",
       "    <tr>\n",
       "      <th>242</th>\n",
       "      <td>5</td>\n",
       "      <td>1440</td>\n",
       "      <td>1</td>\n",
       "      <td>352</td>\n",
       "      <td>540</td>\n",
       "      <td>889</td>\n",
       "      <td>1</td>\n",
       "      <td>6</td>\n",
       "      <td>1900</td>\n",
       "    </tr>\n",
       "    <tr>\n",
       "      <th>617</th>\n",
       "      <td>6</td>\n",
       "      <td>832</td>\n",
       "      <td>2</td>\n",
       "      <td>528</td>\n",
       "      <td>832</td>\n",
       "      <td>832</td>\n",
       "      <td>1</td>\n",
       "      <td>4</td>\n",
       "      <td>1954</td>\n",
       "    </tr>\n",
       "    <tr>\n",
       "      <th>539</th>\n",
       "      <td>8</td>\n",
       "      <td>1601</td>\n",
       "      <td>2</td>\n",
       "      <td>670</td>\n",
       "      <td>1581</td>\n",
       "      <td>1601</td>\n",
       "      <td>2</td>\n",
       "      <td>6</td>\n",
       "      <td>2001</td>\n",
       "    </tr>\n",
       "    <tr>\n",
       "      <th>264</th>\n",
       "      <td>5</td>\n",
       "      <td>764</td>\n",
       "      <td>2</td>\n",
       "      <td>504</td>\n",
       "      <td>680</td>\n",
       "      <td>764</td>\n",
       "      <td>1</td>\n",
       "      <td>4</td>\n",
       "      <td>1925</td>\n",
       "    </tr>\n",
       "    <tr>\n",
       "      <th>392</th>\n",
       "      <td>5</td>\n",
       "      <td>882</td>\n",
       "      <td>1</td>\n",
       "      <td>294</td>\n",
       "      <td>0</td>\n",
       "      <td>882</td>\n",
       "      <td>1</td>\n",
       "      <td>5</td>\n",
       "      <td>1959</td>\n",
       "    </tr>\n",
       "  </tbody>\n",
       "</table>\n",
       "</div>"
      ],
      "text/plain": [
       "     OverallQual  GrLivArea  GarageCars  GarageArea  TotalBsmtSF  1stFlrSF  \\\n",
       "242            5       1440           1         352          540       889   \n",
       "617            6        832           2         528          832       832   \n",
       "539            8       1601           2         670         1581      1601   \n",
       "264            5        764           2         504          680       764   \n",
       "392            5        882           1         294            0       882   \n",
       "\n",
       "     FullBath  TotRmsAbvGrd  YearBuilt  \n",
       "242         1             6       1900  \n",
       "617         1             4       1954  \n",
       "539         2             6       2001  \n",
       "264         1             4       1925  \n",
       "392         1             5       1959  "
      ]
     },
     "execution_count": 68,
     "metadata": {},
     "output_type": "execute_result"
    }
   ],
   "source": [
    "x_train.head()"
   ]
  },
  {
   "cell_type": "code",
   "execution_count": 69,
   "metadata": {},
   "outputs": [
    {
     "data": {
      "text/plain": [
       "array([ 2.10326861e+04,  5.13894105e+01,  1.31354386e+04,  1.25390283e+01,\n",
       "        1.74390298e+01,  1.43381887e+01, -5.11917102e+03,  1.37730220e+02,\n",
       "        3.29258651e+02])"
      ]
     },
     "execution_count": 69,
     "metadata": {},
     "output_type": "execute_result"
    }
   ],
   "source": [
    "lr.coef_"
   ]
  },
  {
   "cell_type": "code",
   "execution_count": 70,
   "metadata": {},
   "outputs": [
    {
     "data": {
      "text/plain": [
       "-732009.1865895989"
      ]
     },
     "execution_count": 70,
     "metadata": {},
     "output_type": "execute_result"
    }
   ],
   "source": [
    "lr.intercept_"
   ]
  },
  {
   "cell_type": "code",
   "execution_count": 71,
   "metadata": {},
   "outputs": [],
   "source": [
    "y_pred = lr.predict(x_test)"
   ]
  },
  {
   "cell_type": "code",
   "execution_count": 72,
   "metadata": {},
   "outputs": [
    {
     "data": {
      "text/html": [
       "<div>\n",
       "<style scoped>\n",
       "    .dataframe tbody tr th:only-of-type {\n",
       "        vertical-align: middle;\n",
       "    }\n",
       "\n",
       "    .dataframe tbody tr th {\n",
       "        vertical-align: top;\n",
       "    }\n",
       "\n",
       "    .dataframe thead th {\n",
       "        text-align: right;\n",
       "    }\n",
       "</style>\n",
       "<table border=\"1\" class=\"dataframe\">\n",
       "  <thead>\n",
       "    <tr style=\"text-align: right;\">\n",
       "      <th></th>\n",
       "      <th>OverallQual</th>\n",
       "      <th>GrLivArea</th>\n",
       "      <th>GarageCars</th>\n",
       "      <th>GarageArea</th>\n",
       "      <th>TotalBsmtSF</th>\n",
       "      <th>1stFlrSF</th>\n",
       "      <th>FullBath</th>\n",
       "      <th>TotRmsAbvGrd</th>\n",
       "      <th>YearBuilt</th>\n",
       "    </tr>\n",
       "  </thead>\n",
       "  <tbody>\n",
       "    <tr>\n",
       "      <th>860</th>\n",
       "      <td>7</td>\n",
       "      <td>1426</td>\n",
       "      <td>1</td>\n",
       "      <td>216</td>\n",
       "      <td>912</td>\n",
       "      <td>912</td>\n",
       "      <td>1</td>\n",
       "      <td>7</td>\n",
       "      <td>1918</td>\n",
       "    </tr>\n",
       "    <tr>\n",
       "      <th>1146</th>\n",
       "      <td>6</td>\n",
       "      <td>1298</td>\n",
       "      <td>2</td>\n",
       "      <td>403</td>\n",
       "      <td>1298</td>\n",
       "      <td>1298</td>\n",
       "      <td>2</td>\n",
       "      <td>5</td>\n",
       "      <td>1985</td>\n",
       "    </tr>\n",
       "    <tr>\n",
       "      <th>1092</th>\n",
       "      <td>6</td>\n",
       "      <td>1694</td>\n",
       "      <td>2</td>\n",
       "      <td>576</td>\n",
       "      <td>1181</td>\n",
       "      <td>1390</td>\n",
       "      <td>2</td>\n",
       "      <td>7</td>\n",
       "      <td>1925</td>\n",
       "    </tr>\n",
       "    <tr>\n",
       "      <th>1018</th>\n",
       "      <td>7</td>\n",
       "      <td>1472</td>\n",
       "      <td>2</td>\n",
       "      <td>402</td>\n",
       "      <td>384</td>\n",
       "      <td>802</td>\n",
       "      <td>2</td>\n",
       "      <td>7</td>\n",
       "      <td>1991</td>\n",
       "    </tr>\n",
       "    <tr>\n",
       "      <th>628</th>\n",
       "      <td>5</td>\n",
       "      <td>2080</td>\n",
       "      <td>2</td>\n",
       "      <td>504</td>\n",
       "      <td>1040</td>\n",
       "      <td>1040</td>\n",
       "      <td>1</td>\n",
       "      <td>9</td>\n",
       "      <td>1969</td>\n",
       "    </tr>\n",
       "  </tbody>\n",
       "</table>\n",
       "</div>"
      ],
      "text/plain": [
       "      OverallQual  GrLivArea  GarageCars  GarageArea  TotalBsmtSF  1stFlrSF  \\\n",
       "860             7       1426           1         216          912       912   \n",
       "1146            6       1298           2         403         1298      1298   \n",
       "1092            6       1694           2         576         1181      1390   \n",
       "1018            7       1472           2         402          384       802   \n",
       "628             5       2080           2         504         1040      1040   \n",
       "\n",
       "      FullBath  TotRmsAbvGrd  YearBuilt  \n",
       "860          1             7       1918  \n",
       "1146         2             5       1985  \n",
       "1092         2             7       1925  \n",
       "1018         2             7       1991  \n",
       "628          1             9       1969  "
      ]
     },
     "execution_count": 72,
     "metadata": {},
     "output_type": "execute_result"
    }
   ],
   "source": [
    "x_test.head()"
   ]
  },
  {
   "cell_type": "code",
   "execution_count": 73,
   "metadata": {},
   "outputs": [],
   "source": [
    "from sklearn.metrics import mean_squared_error"
   ]
  },
  {
   "cell_type": "code",
   "execution_count": 74,
   "metadata": {},
   "outputs": [
    {
     "data": {
      "text/plain": [
       "38012.211746459056"
      ]
     },
     "execution_count": 74,
     "metadata": {},
     "output_type": "execute_result"
    }
   ],
   "source": [
    "np.sqrt(mean_squared_error(y_test,y_pred))"
   ]
  },
  {
   "cell_type": "markdown",
   "metadata": {},
   "source": [
    "### Pre-Processamento"
   ]
  },
  {
   "cell_type": "code",
   "execution_count": 75,
   "metadata": {},
   "outputs": [],
   "source": [
    "from sklearn.preprocessing import MinMaxScaler, StandardScaler, OneHotEncoder"
   ]
  },
  {
   "cell_type": "markdown",
   "metadata": {},
   "source": [
    "![minmax](imgs/minxmax.jpg)"
   ]
  },
  {
   "cell_type": "code",
   "execution_count": 76,
   "metadata": {},
   "outputs": [
    {
     "data": {
      "text/html": [
       "<div>\n",
       "<style scoped>\n",
       "    .dataframe tbody tr th:only-of-type {\n",
       "        vertical-align: middle;\n",
       "    }\n",
       "\n",
       "    .dataframe tbody tr th {\n",
       "        vertical-align: top;\n",
       "    }\n",
       "\n",
       "    .dataframe thead th {\n",
       "        text-align: right;\n",
       "    }\n",
       "</style>\n",
       "<table border=\"1\" class=\"dataframe\">\n",
       "  <thead>\n",
       "    <tr style=\"text-align: right;\">\n",
       "      <th></th>\n",
       "      <th>OverallQual</th>\n",
       "      <th>GrLivArea</th>\n",
       "      <th>GarageCars</th>\n",
       "      <th>GarageArea</th>\n",
       "      <th>TotalBsmtSF</th>\n",
       "      <th>1stFlrSF</th>\n",
       "      <th>FullBath</th>\n",
       "      <th>TotRmsAbvGrd</th>\n",
       "      <th>YearBuilt</th>\n",
       "    </tr>\n",
       "  </thead>\n",
       "  <tbody>\n",
       "    <tr>\n",
       "      <th>0</th>\n",
       "      <td>7</td>\n",
       "      <td>1710</td>\n",
       "      <td>2</td>\n",
       "      <td>548</td>\n",
       "      <td>856</td>\n",
       "      <td>856</td>\n",
       "      <td>2</td>\n",
       "      <td>8</td>\n",
       "      <td>2003</td>\n",
       "    </tr>\n",
       "    <tr>\n",
       "      <th>1</th>\n",
       "      <td>6</td>\n",
       "      <td>1262</td>\n",
       "      <td>2</td>\n",
       "      <td>460</td>\n",
       "      <td>1262</td>\n",
       "      <td>1262</td>\n",
       "      <td>2</td>\n",
       "      <td>6</td>\n",
       "      <td>1976</td>\n",
       "    </tr>\n",
       "    <tr>\n",
       "      <th>2</th>\n",
       "      <td>7</td>\n",
       "      <td>1786</td>\n",
       "      <td>2</td>\n",
       "      <td>608</td>\n",
       "      <td>920</td>\n",
       "      <td>920</td>\n",
       "      <td>2</td>\n",
       "      <td>6</td>\n",
       "      <td>2001</td>\n",
       "    </tr>\n",
       "    <tr>\n",
       "      <th>3</th>\n",
       "      <td>7</td>\n",
       "      <td>1717</td>\n",
       "      <td>3</td>\n",
       "      <td>642</td>\n",
       "      <td>756</td>\n",
       "      <td>961</td>\n",
       "      <td>1</td>\n",
       "      <td>7</td>\n",
       "      <td>1915</td>\n",
       "    </tr>\n",
       "    <tr>\n",
       "      <th>4</th>\n",
       "      <td>8</td>\n",
       "      <td>2198</td>\n",
       "      <td>3</td>\n",
       "      <td>836</td>\n",
       "      <td>1145</td>\n",
       "      <td>1145</td>\n",
       "      <td>2</td>\n",
       "      <td>9</td>\n",
       "      <td>2000</td>\n",
       "    </tr>\n",
       "    <tr>\n",
       "      <th>...</th>\n",
       "      <td>...</td>\n",
       "      <td>...</td>\n",
       "      <td>...</td>\n",
       "      <td>...</td>\n",
       "      <td>...</td>\n",
       "      <td>...</td>\n",
       "      <td>...</td>\n",
       "      <td>...</td>\n",
       "      <td>...</td>\n",
       "    </tr>\n",
       "    <tr>\n",
       "      <th>1455</th>\n",
       "      <td>6</td>\n",
       "      <td>1647</td>\n",
       "      <td>2</td>\n",
       "      <td>460</td>\n",
       "      <td>953</td>\n",
       "      <td>953</td>\n",
       "      <td>2</td>\n",
       "      <td>7</td>\n",
       "      <td>1999</td>\n",
       "    </tr>\n",
       "    <tr>\n",
       "      <th>1456</th>\n",
       "      <td>6</td>\n",
       "      <td>2073</td>\n",
       "      <td>2</td>\n",
       "      <td>500</td>\n",
       "      <td>1542</td>\n",
       "      <td>2073</td>\n",
       "      <td>2</td>\n",
       "      <td>7</td>\n",
       "      <td>1978</td>\n",
       "    </tr>\n",
       "    <tr>\n",
       "      <th>1457</th>\n",
       "      <td>7</td>\n",
       "      <td>2340</td>\n",
       "      <td>1</td>\n",
       "      <td>252</td>\n",
       "      <td>1152</td>\n",
       "      <td>1188</td>\n",
       "      <td>2</td>\n",
       "      <td>9</td>\n",
       "      <td>1941</td>\n",
       "    </tr>\n",
       "    <tr>\n",
       "      <th>1458</th>\n",
       "      <td>5</td>\n",
       "      <td>1078</td>\n",
       "      <td>1</td>\n",
       "      <td>240</td>\n",
       "      <td>1078</td>\n",
       "      <td>1078</td>\n",
       "      <td>1</td>\n",
       "      <td>5</td>\n",
       "      <td>1950</td>\n",
       "    </tr>\n",
       "    <tr>\n",
       "      <th>1459</th>\n",
       "      <td>5</td>\n",
       "      <td>1256</td>\n",
       "      <td>1</td>\n",
       "      <td>276</td>\n",
       "      <td>1256</td>\n",
       "      <td>1256</td>\n",
       "      <td>1</td>\n",
       "      <td>6</td>\n",
       "      <td>1965</td>\n",
       "    </tr>\n",
       "  </tbody>\n",
       "</table>\n",
       "<p>1460 rows × 9 columns</p>\n",
       "</div>"
      ],
      "text/plain": [
       "      OverallQual  GrLivArea  GarageCars  GarageArea  TotalBsmtSF  1stFlrSF  \\\n",
       "0               7       1710           2         548          856       856   \n",
       "1               6       1262           2         460         1262      1262   \n",
       "2               7       1786           2         608          920       920   \n",
       "3               7       1717           3         642          756       961   \n",
       "4               8       2198           3         836         1145      1145   \n",
       "...           ...        ...         ...         ...          ...       ...   \n",
       "1455            6       1647           2         460          953       953   \n",
       "1456            6       2073           2         500         1542      2073   \n",
       "1457            7       2340           1         252         1152      1188   \n",
       "1458            5       1078           1         240         1078      1078   \n",
       "1459            5       1256           1         276         1256      1256   \n",
       "\n",
       "      FullBath  TotRmsAbvGrd  YearBuilt  \n",
       "0            2             8       2003  \n",
       "1            2             6       1976  \n",
       "2            2             6       2001  \n",
       "3            1             7       1915  \n",
       "4            2             9       2000  \n",
       "...        ...           ...        ...  \n",
       "1455         2             7       1999  \n",
       "1456         2             7       1978  \n",
       "1457         2             9       1941  \n",
       "1458         1             5       1950  \n",
       "1459         1             6       1965  \n",
       "\n",
       "[1460 rows x 9 columns]"
      ]
     },
     "execution_count": 76,
     "metadata": {},
     "output_type": "execute_result"
    }
   ],
   "source": [
    "x"
   ]
  },
  {
   "cell_type": "code",
   "execution_count": 77,
   "metadata": {},
   "outputs": [],
   "source": [
    "min_max = MinMaxScaler()\n",
    "scaled_x = min_max.fit_transform(x.drop(['OverallQual'],axis=1))"
   ]
  },
  {
   "cell_type": "code",
   "execution_count": 78,
   "metadata": {},
   "outputs": [
    {
     "data": {
      "text/html": [
       "<div>\n",
       "<style scoped>\n",
       "    .dataframe tbody tr th:only-of-type {\n",
       "        vertical-align: middle;\n",
       "    }\n",
       "\n",
       "    .dataframe tbody tr th {\n",
       "        vertical-align: top;\n",
       "    }\n",
       "\n",
       "    .dataframe thead th {\n",
       "        text-align: right;\n",
       "    }\n",
       "</style>\n",
       "<table border=\"1\" class=\"dataframe\">\n",
       "  <thead>\n",
       "    <tr style=\"text-align: right;\">\n",
       "      <th></th>\n",
       "      <th>GrLivArea</th>\n",
       "      <th>GarageCars</th>\n",
       "      <th>GarageArea</th>\n",
       "      <th>TotalBsmtSF</th>\n",
       "      <th>1stFlrSF</th>\n",
       "      <th>FullBath</th>\n",
       "      <th>TotRmsAbvGrd</th>\n",
       "      <th>YearBuilt</th>\n",
       "    </tr>\n",
       "  </thead>\n",
       "  <tbody>\n",
       "    <tr>\n",
       "      <th>0</th>\n",
       "      <td>0.259231</td>\n",
       "      <td>0.50</td>\n",
       "      <td>0.386460</td>\n",
       "      <td>0.140098</td>\n",
       "      <td>0.119780</td>\n",
       "      <td>0.666667</td>\n",
       "      <td>0.500000</td>\n",
       "      <td>0.949275</td>\n",
       "    </tr>\n",
       "    <tr>\n",
       "      <th>1</th>\n",
       "      <td>0.174830</td>\n",
       "      <td>0.50</td>\n",
       "      <td>0.324401</td>\n",
       "      <td>0.206547</td>\n",
       "      <td>0.212942</td>\n",
       "      <td>0.666667</td>\n",
       "      <td>0.333333</td>\n",
       "      <td>0.753623</td>\n",
       "    </tr>\n",
       "    <tr>\n",
       "      <th>2</th>\n",
       "      <td>0.273549</td>\n",
       "      <td>0.50</td>\n",
       "      <td>0.428773</td>\n",
       "      <td>0.150573</td>\n",
       "      <td>0.134465</td>\n",
       "      <td>0.666667</td>\n",
       "      <td>0.333333</td>\n",
       "      <td>0.934783</td>\n",
       "    </tr>\n",
       "    <tr>\n",
       "      <th>3</th>\n",
       "      <td>0.260550</td>\n",
       "      <td>0.75</td>\n",
       "      <td>0.452750</td>\n",
       "      <td>0.123732</td>\n",
       "      <td>0.143873</td>\n",
       "      <td>0.333333</td>\n",
       "      <td>0.416667</td>\n",
       "      <td>0.311594</td>\n",
       "    </tr>\n",
       "    <tr>\n",
       "      <th>4</th>\n",
       "      <td>0.351168</td>\n",
       "      <td>0.75</td>\n",
       "      <td>0.589563</td>\n",
       "      <td>0.187398</td>\n",
       "      <td>0.186095</td>\n",
       "      <td>0.666667</td>\n",
       "      <td>0.583333</td>\n",
       "      <td>0.927536</td>\n",
       "    </tr>\n",
       "    <tr>\n",
       "      <th>...</th>\n",
       "      <td>...</td>\n",
       "      <td>...</td>\n",
       "      <td>...</td>\n",
       "      <td>...</td>\n",
       "      <td>...</td>\n",
       "      <td>...</td>\n",
       "      <td>...</td>\n",
       "      <td>...</td>\n",
       "    </tr>\n",
       "    <tr>\n",
       "      <th>1455</th>\n",
       "      <td>0.247362</td>\n",
       "      <td>0.50</td>\n",
       "      <td>0.324401</td>\n",
       "      <td>0.155974</td>\n",
       "      <td>0.142038</td>\n",
       "      <td>0.666667</td>\n",
       "      <td>0.416667</td>\n",
       "      <td>0.920290</td>\n",
       "    </tr>\n",
       "    <tr>\n",
       "      <th>1456</th>\n",
       "      <td>0.327619</td>\n",
       "      <td>0.50</td>\n",
       "      <td>0.352609</td>\n",
       "      <td>0.252373</td>\n",
       "      <td>0.399036</td>\n",
       "      <td>0.666667</td>\n",
       "      <td>0.416667</td>\n",
       "      <td>0.768116</td>\n",
       "    </tr>\n",
       "    <tr>\n",
       "      <th>1457</th>\n",
       "      <td>0.377920</td>\n",
       "      <td>0.25</td>\n",
       "      <td>0.177715</td>\n",
       "      <td>0.188543</td>\n",
       "      <td>0.195961</td>\n",
       "      <td>0.666667</td>\n",
       "      <td>0.583333</td>\n",
       "      <td>0.500000</td>\n",
       "    </tr>\n",
       "    <tr>\n",
       "      <th>1458</th>\n",
       "      <td>0.140166</td>\n",
       "      <td>0.25</td>\n",
       "      <td>0.169252</td>\n",
       "      <td>0.176432</td>\n",
       "      <td>0.170721</td>\n",
       "      <td>0.333333</td>\n",
       "      <td>0.250000</td>\n",
       "      <td>0.565217</td>\n",
       "    </tr>\n",
       "    <tr>\n",
       "      <th>1459</th>\n",
       "      <td>0.173700</td>\n",
       "      <td>0.25</td>\n",
       "      <td>0.194640</td>\n",
       "      <td>0.205565</td>\n",
       "      <td>0.211565</td>\n",
       "      <td>0.333333</td>\n",
       "      <td>0.333333</td>\n",
       "      <td>0.673913</td>\n",
       "    </tr>\n",
       "  </tbody>\n",
       "</table>\n",
       "<p>1460 rows × 8 columns</p>\n",
       "</div>"
      ],
      "text/plain": [
       "      GrLivArea  GarageCars  GarageArea  TotalBsmtSF  1stFlrSF  FullBath  \\\n",
       "0      0.259231        0.50    0.386460     0.140098  0.119780  0.666667   \n",
       "1      0.174830        0.50    0.324401     0.206547  0.212942  0.666667   \n",
       "2      0.273549        0.50    0.428773     0.150573  0.134465  0.666667   \n",
       "3      0.260550        0.75    0.452750     0.123732  0.143873  0.333333   \n",
       "4      0.351168        0.75    0.589563     0.187398  0.186095  0.666667   \n",
       "...         ...         ...         ...          ...       ...       ...   \n",
       "1455   0.247362        0.50    0.324401     0.155974  0.142038  0.666667   \n",
       "1456   0.327619        0.50    0.352609     0.252373  0.399036  0.666667   \n",
       "1457   0.377920        0.25    0.177715     0.188543  0.195961  0.666667   \n",
       "1458   0.140166        0.25    0.169252     0.176432  0.170721  0.333333   \n",
       "1459   0.173700        0.25    0.194640     0.205565  0.211565  0.333333   \n",
       "\n",
       "      TotRmsAbvGrd  YearBuilt  \n",
       "0         0.500000   0.949275  \n",
       "1         0.333333   0.753623  \n",
       "2         0.333333   0.934783  \n",
       "3         0.416667   0.311594  \n",
       "4         0.583333   0.927536  \n",
       "...            ...        ...  \n",
       "1455      0.416667   0.920290  \n",
       "1456      0.416667   0.768116  \n",
       "1457      0.583333   0.500000  \n",
       "1458      0.250000   0.565217  \n",
       "1459      0.333333   0.673913  \n",
       "\n",
       "[1460 rows x 8 columns]"
      ]
     },
     "execution_count": 78,
     "metadata": {},
     "output_type": "execute_result"
    }
   ],
   "source": [
    "df_scaled = pd.DataFrame(scaled_x,columns=x.drop(['OverallQual'],axis=1).columns)\n",
    "df_scaled"
   ]
  },
  {
   "cell_type": "code",
   "execution_count": 79,
   "metadata": {},
   "outputs": [],
   "source": [
    "ohe = OneHotEncoder(categories='auto')\n",
    "qual_trans = ohe.fit_transform(x[['OverallQual']])"
   ]
  },
  {
   "cell_type": "code",
   "execution_count": 80,
   "metadata": {},
   "outputs": [],
   "source": [
    "qual_trans = pd.DataFrame(qual_trans.todense(),columns=ohe.categories_)\n",
    "qual_trans.columns = ['qual_'+str(x) for x in list(zip(*qual_trans.columns.values))[0]]"
   ]
  },
  {
   "cell_type": "code",
   "execution_count": 81,
   "metadata": {},
   "outputs": [],
   "source": [
    "for column in qual_trans.columns:\n",
    "    df_scaled[column] = qual_trans[column]"
   ]
  },
  {
   "cell_type": "code",
   "execution_count": 82,
   "metadata": {},
   "outputs": [
    {
     "data": {
      "text/html": [
       "<div>\n",
       "<style scoped>\n",
       "    .dataframe tbody tr th:only-of-type {\n",
       "        vertical-align: middle;\n",
       "    }\n",
       "\n",
       "    .dataframe tbody tr th {\n",
       "        vertical-align: top;\n",
       "    }\n",
       "\n",
       "    .dataframe thead th {\n",
       "        text-align: right;\n",
       "    }\n",
       "</style>\n",
       "<table border=\"1\" class=\"dataframe\">\n",
       "  <thead>\n",
       "    <tr style=\"text-align: right;\">\n",
       "      <th></th>\n",
       "      <th>GrLivArea</th>\n",
       "      <th>GarageCars</th>\n",
       "      <th>GarageArea</th>\n",
       "      <th>TotalBsmtSF</th>\n",
       "      <th>1stFlrSF</th>\n",
       "      <th>FullBath</th>\n",
       "      <th>TotRmsAbvGrd</th>\n",
       "      <th>YearBuilt</th>\n",
       "      <th>qual_1</th>\n",
       "      <th>qual_2</th>\n",
       "      <th>qual_3</th>\n",
       "      <th>qual_4</th>\n",
       "      <th>qual_5</th>\n",
       "      <th>qual_6</th>\n",
       "      <th>qual_7</th>\n",
       "      <th>qual_8</th>\n",
       "      <th>qual_9</th>\n",
       "      <th>qual_10</th>\n",
       "    </tr>\n",
       "  </thead>\n",
       "  <tbody>\n",
       "    <tr>\n",
       "      <th>0</th>\n",
       "      <td>0.259231</td>\n",
       "      <td>0.50</td>\n",
       "      <td>0.386460</td>\n",
       "      <td>0.140098</td>\n",
       "      <td>0.119780</td>\n",
       "      <td>0.666667</td>\n",
       "      <td>0.500000</td>\n",
       "      <td>0.949275</td>\n",
       "      <td>0.0</td>\n",
       "      <td>0.0</td>\n",
       "      <td>0.0</td>\n",
       "      <td>0.0</td>\n",
       "      <td>0.0</td>\n",
       "      <td>0.0</td>\n",
       "      <td>1.0</td>\n",
       "      <td>0.0</td>\n",
       "      <td>0.0</td>\n",
       "      <td>0.0</td>\n",
       "    </tr>\n",
       "    <tr>\n",
       "      <th>1</th>\n",
       "      <td>0.174830</td>\n",
       "      <td>0.50</td>\n",
       "      <td>0.324401</td>\n",
       "      <td>0.206547</td>\n",
       "      <td>0.212942</td>\n",
       "      <td>0.666667</td>\n",
       "      <td>0.333333</td>\n",
       "      <td>0.753623</td>\n",
       "      <td>0.0</td>\n",
       "      <td>0.0</td>\n",
       "      <td>0.0</td>\n",
       "      <td>0.0</td>\n",
       "      <td>0.0</td>\n",
       "      <td>1.0</td>\n",
       "      <td>0.0</td>\n",
       "      <td>0.0</td>\n",
       "      <td>0.0</td>\n",
       "      <td>0.0</td>\n",
       "    </tr>\n",
       "    <tr>\n",
       "      <th>2</th>\n",
       "      <td>0.273549</td>\n",
       "      <td>0.50</td>\n",
       "      <td>0.428773</td>\n",
       "      <td>0.150573</td>\n",
       "      <td>0.134465</td>\n",
       "      <td>0.666667</td>\n",
       "      <td>0.333333</td>\n",
       "      <td>0.934783</td>\n",
       "      <td>0.0</td>\n",
       "      <td>0.0</td>\n",
       "      <td>0.0</td>\n",
       "      <td>0.0</td>\n",
       "      <td>0.0</td>\n",
       "      <td>0.0</td>\n",
       "      <td>1.0</td>\n",
       "      <td>0.0</td>\n",
       "      <td>0.0</td>\n",
       "      <td>0.0</td>\n",
       "    </tr>\n",
       "    <tr>\n",
       "      <th>3</th>\n",
       "      <td>0.260550</td>\n",
       "      <td>0.75</td>\n",
       "      <td>0.452750</td>\n",
       "      <td>0.123732</td>\n",
       "      <td>0.143873</td>\n",
       "      <td>0.333333</td>\n",
       "      <td>0.416667</td>\n",
       "      <td>0.311594</td>\n",
       "      <td>0.0</td>\n",
       "      <td>0.0</td>\n",
       "      <td>0.0</td>\n",
       "      <td>0.0</td>\n",
       "      <td>0.0</td>\n",
       "      <td>0.0</td>\n",
       "      <td>1.0</td>\n",
       "      <td>0.0</td>\n",
       "      <td>0.0</td>\n",
       "      <td>0.0</td>\n",
       "    </tr>\n",
       "    <tr>\n",
       "      <th>4</th>\n",
       "      <td>0.351168</td>\n",
       "      <td>0.75</td>\n",
       "      <td>0.589563</td>\n",
       "      <td>0.187398</td>\n",
       "      <td>0.186095</td>\n",
       "      <td>0.666667</td>\n",
       "      <td>0.583333</td>\n",
       "      <td>0.927536</td>\n",
       "      <td>0.0</td>\n",
       "      <td>0.0</td>\n",
       "      <td>0.0</td>\n",
       "      <td>0.0</td>\n",
       "      <td>0.0</td>\n",
       "      <td>0.0</td>\n",
       "      <td>0.0</td>\n",
       "      <td>1.0</td>\n",
       "      <td>0.0</td>\n",
       "      <td>0.0</td>\n",
       "    </tr>\n",
       "    <tr>\n",
       "      <th>...</th>\n",
       "      <td>...</td>\n",
       "      <td>...</td>\n",
       "      <td>...</td>\n",
       "      <td>...</td>\n",
       "      <td>...</td>\n",
       "      <td>...</td>\n",
       "      <td>...</td>\n",
       "      <td>...</td>\n",
       "      <td>...</td>\n",
       "      <td>...</td>\n",
       "      <td>...</td>\n",
       "      <td>...</td>\n",
       "      <td>...</td>\n",
       "      <td>...</td>\n",
       "      <td>...</td>\n",
       "      <td>...</td>\n",
       "      <td>...</td>\n",
       "      <td>...</td>\n",
       "    </tr>\n",
       "    <tr>\n",
       "      <th>1455</th>\n",
       "      <td>0.247362</td>\n",
       "      <td>0.50</td>\n",
       "      <td>0.324401</td>\n",
       "      <td>0.155974</td>\n",
       "      <td>0.142038</td>\n",
       "      <td>0.666667</td>\n",
       "      <td>0.416667</td>\n",
       "      <td>0.920290</td>\n",
       "      <td>0.0</td>\n",
       "      <td>0.0</td>\n",
       "      <td>0.0</td>\n",
       "      <td>0.0</td>\n",
       "      <td>0.0</td>\n",
       "      <td>1.0</td>\n",
       "      <td>0.0</td>\n",
       "      <td>0.0</td>\n",
       "      <td>0.0</td>\n",
       "      <td>0.0</td>\n",
       "    </tr>\n",
       "    <tr>\n",
       "      <th>1456</th>\n",
       "      <td>0.327619</td>\n",
       "      <td>0.50</td>\n",
       "      <td>0.352609</td>\n",
       "      <td>0.252373</td>\n",
       "      <td>0.399036</td>\n",
       "      <td>0.666667</td>\n",
       "      <td>0.416667</td>\n",
       "      <td>0.768116</td>\n",
       "      <td>0.0</td>\n",
       "      <td>0.0</td>\n",
       "      <td>0.0</td>\n",
       "      <td>0.0</td>\n",
       "      <td>0.0</td>\n",
       "      <td>1.0</td>\n",
       "      <td>0.0</td>\n",
       "      <td>0.0</td>\n",
       "      <td>0.0</td>\n",
       "      <td>0.0</td>\n",
       "    </tr>\n",
       "    <tr>\n",
       "      <th>1457</th>\n",
       "      <td>0.377920</td>\n",
       "      <td>0.25</td>\n",
       "      <td>0.177715</td>\n",
       "      <td>0.188543</td>\n",
       "      <td>0.195961</td>\n",
       "      <td>0.666667</td>\n",
       "      <td>0.583333</td>\n",
       "      <td>0.500000</td>\n",
       "      <td>0.0</td>\n",
       "      <td>0.0</td>\n",
       "      <td>0.0</td>\n",
       "      <td>0.0</td>\n",
       "      <td>0.0</td>\n",
       "      <td>0.0</td>\n",
       "      <td>1.0</td>\n",
       "      <td>0.0</td>\n",
       "      <td>0.0</td>\n",
       "      <td>0.0</td>\n",
       "    </tr>\n",
       "    <tr>\n",
       "      <th>1458</th>\n",
       "      <td>0.140166</td>\n",
       "      <td>0.25</td>\n",
       "      <td>0.169252</td>\n",
       "      <td>0.176432</td>\n",
       "      <td>0.170721</td>\n",
       "      <td>0.333333</td>\n",
       "      <td>0.250000</td>\n",
       "      <td>0.565217</td>\n",
       "      <td>0.0</td>\n",
       "      <td>0.0</td>\n",
       "      <td>0.0</td>\n",
       "      <td>0.0</td>\n",
       "      <td>1.0</td>\n",
       "      <td>0.0</td>\n",
       "      <td>0.0</td>\n",
       "      <td>0.0</td>\n",
       "      <td>0.0</td>\n",
       "      <td>0.0</td>\n",
       "    </tr>\n",
       "    <tr>\n",
       "      <th>1459</th>\n",
       "      <td>0.173700</td>\n",
       "      <td>0.25</td>\n",
       "      <td>0.194640</td>\n",
       "      <td>0.205565</td>\n",
       "      <td>0.211565</td>\n",
       "      <td>0.333333</td>\n",
       "      <td>0.333333</td>\n",
       "      <td>0.673913</td>\n",
       "      <td>0.0</td>\n",
       "      <td>0.0</td>\n",
       "      <td>0.0</td>\n",
       "      <td>0.0</td>\n",
       "      <td>1.0</td>\n",
       "      <td>0.0</td>\n",
       "      <td>0.0</td>\n",
       "      <td>0.0</td>\n",
       "      <td>0.0</td>\n",
       "      <td>0.0</td>\n",
       "    </tr>\n",
       "  </tbody>\n",
       "</table>\n",
       "<p>1460 rows × 18 columns</p>\n",
       "</div>"
      ],
      "text/plain": [
       "      GrLivArea  GarageCars  GarageArea  TotalBsmtSF  1stFlrSF  FullBath  \\\n",
       "0      0.259231        0.50    0.386460     0.140098  0.119780  0.666667   \n",
       "1      0.174830        0.50    0.324401     0.206547  0.212942  0.666667   \n",
       "2      0.273549        0.50    0.428773     0.150573  0.134465  0.666667   \n",
       "3      0.260550        0.75    0.452750     0.123732  0.143873  0.333333   \n",
       "4      0.351168        0.75    0.589563     0.187398  0.186095  0.666667   \n",
       "...         ...         ...         ...          ...       ...       ...   \n",
       "1455   0.247362        0.50    0.324401     0.155974  0.142038  0.666667   \n",
       "1456   0.327619        0.50    0.352609     0.252373  0.399036  0.666667   \n",
       "1457   0.377920        0.25    0.177715     0.188543  0.195961  0.666667   \n",
       "1458   0.140166        0.25    0.169252     0.176432  0.170721  0.333333   \n",
       "1459   0.173700        0.25    0.194640     0.205565  0.211565  0.333333   \n",
       "\n",
       "      TotRmsAbvGrd  YearBuilt  qual_1  qual_2  qual_3  qual_4  qual_5  qual_6  \\\n",
       "0         0.500000   0.949275     0.0     0.0     0.0     0.0     0.0     0.0   \n",
       "1         0.333333   0.753623     0.0     0.0     0.0     0.0     0.0     1.0   \n",
       "2         0.333333   0.934783     0.0     0.0     0.0     0.0     0.0     0.0   \n",
       "3         0.416667   0.311594     0.0     0.0     0.0     0.0     0.0     0.0   \n",
       "4         0.583333   0.927536     0.0     0.0     0.0     0.0     0.0     0.0   \n",
       "...            ...        ...     ...     ...     ...     ...     ...     ...   \n",
       "1455      0.416667   0.920290     0.0     0.0     0.0     0.0     0.0     1.0   \n",
       "1456      0.416667   0.768116     0.0     0.0     0.0     0.0     0.0     1.0   \n",
       "1457      0.583333   0.500000     0.0     0.0     0.0     0.0     0.0     0.0   \n",
       "1458      0.250000   0.565217     0.0     0.0     0.0     0.0     1.0     0.0   \n",
       "1459      0.333333   0.673913     0.0     0.0     0.0     0.0     1.0     0.0   \n",
       "\n",
       "      qual_7  qual_8  qual_9  qual_10  \n",
       "0        1.0     0.0     0.0      0.0  \n",
       "1        0.0     0.0     0.0      0.0  \n",
       "2        1.0     0.0     0.0      0.0  \n",
       "3        1.0     0.0     0.0      0.0  \n",
       "4        0.0     1.0     0.0      0.0  \n",
       "...      ...     ...     ...      ...  \n",
       "1455     0.0     0.0     0.0      0.0  \n",
       "1456     0.0     0.0     0.0      0.0  \n",
       "1457     1.0     0.0     0.0      0.0  \n",
       "1458     0.0     0.0     0.0      0.0  \n",
       "1459     0.0     0.0     0.0      0.0  \n",
       "\n",
       "[1460 rows x 18 columns]"
      ]
     },
     "execution_count": 82,
     "metadata": {},
     "output_type": "execute_result"
    }
   ],
   "source": [
    "df_scaled"
   ]
  },
  {
   "cell_type": "code",
   "execution_count": 83,
   "metadata": {},
   "outputs": [],
   "source": [
    "x_train,x_test,y_train,y_test = train_test_split(df_scaled,y, test_size = 0.25, random_state=43)"
   ]
  },
  {
   "cell_type": "code",
   "execution_count": 84,
   "metadata": {},
   "outputs": [
    {
     "data": {
      "text/plain": [
       "LinearRegression()"
      ]
     },
     "execution_count": 84,
     "metadata": {},
     "output_type": "execute_result"
    }
   ],
   "source": [
    "lr_scaled = LinearRegression()\n",
    "lr_scaled.fit(x_train,y_train)"
   ]
  },
  {
   "cell_type": "code",
   "execution_count": 85,
   "metadata": {},
   "outputs": [
    {
     "data": {
      "text/plain": [
       "36789.94001804078"
      ]
     },
     "execution_count": 85,
     "metadata": {},
     "output_type": "execute_result"
    }
   ],
   "source": [
    "y_pred = lr_scaled.predict(x_test)\n",
    "np.sqrt(mean_squared_error(y_test,y_pred))"
   ]
  },
  {
   "cell_type": "markdown",
   "metadata": {},
   "source": [
    "## R2\n",
    "___"
   ]
  },
  {
   "cell_type": "code",
   "execution_count": 86,
   "metadata": {},
   "outputs": [
    {
     "data": {
      "image/png": "[encoded data removed]",
      "text/plain": [
       "<Figure size 1080x576 with 1 Axes>"
      ]
     },
     "metadata": {
      "needs_background": "light"
     },
     "output_type": "display_data"
    }
   ],
   "source": [
    "## demonstrando r2\n",
    "\n",
    "a = np.array([1,2,3,4,5,6,7,8,9,10])\n",
    "b = np.array([10,11,15,18,19,21,25,25.33,27,29.55])\n",
    "\n",
    "plt.figure(figsize=(15,8))\n",
    "sns.scatterplot(x=a,y=b,s=100,label='valores reais')\n",
    "plt.axhline(b.mean(),color='tab:red',label='média')\n",
    "plt.title('Você consegue fazer uma predição melhor que essa?',size=15)\n",
    "plt.legend()\n",
    "plt.show()"
   ]
  },
  {
   "cell_type": "code",
   "execution_count": 87,
   "metadata": {},
   "outputs": [
    {
     "data": {
      "image/png": "[encoded data removed]",
      "text/plain": [
       "<Figure size 1080x576 with 1 Axes>"
      ]
     },
     "metadata": {
      "needs_background": "light"
     },
     "output_type": "display_data"
    }
   ],
   "source": [
    "## valores reais\n",
    "a = np.array([1,2,3,4,5,6,7,8,9,10])\n",
    "b = np.array([10,11,15,18,19,21,25,25.33,27,29.55])\n",
    "\n",
    "## valor predito\n",
    "y_pred = np.array([10.19890909, 12.39648485, 14.59406061, 16.79163636, 18.98921212,21.18678788, 23.38436364, 25.58193939, 27.77951515, 29.97709091])\n",
    "\n",
    "## gráfico\n",
    "plt.figure(figsize=(15,8))\n",
    "sns.scatterplot(x=a,y=b,s=100,label='valores reais')\n",
    "sns.lineplot(x=a,y=y_pred,label='Resultado do modelo',color='tab:orange')\n",
    "plt.title('Consigo!',size=15)\n",
    "plt.legend()\n",
    "plt.show()"
   ]
  },
  {
   "cell_type": "code",
   "execution_count": 88,
   "metadata": {},
   "outputs": [],
   "source": [
    "from sklearn.metrics import r2_score\n",
    "from sklearn.dummy import DummyRegressor"
   ]
  },
  {
   "cell_type": "code",
   "execution_count": 89,
   "metadata": {},
   "outputs": [
    {
     "data": {
      "text/plain": [
       "0.0"
      ]
     },
     "execution_count": 89,
     "metadata": {},
     "output_type": "execute_result"
    }
   ],
   "source": [
    "model = DummyRegressor().fit(a,b)\n",
    "r2_score(model.predict(a),b)"
   ]
  },
  {
   "cell_type": "code",
   "execution_count": 90,
   "metadata": {},
   "outputs": [
    {
     "data": {
      "text/plain": [
       "0.9821458097110134"
      ]
     },
     "execution_count": 90,
     "metadata": {},
     "output_type": "execute_result"
    }
   ],
   "source": [
    "lr = LinearRegression().fit(a.reshape(-1,1),b)\n",
    "r2_score(lr.predict(a.reshape(-1,1)),b)"
   ]
  },
  {
   "cell_type": "code",
   "execution_count": 91,
   "metadata": {},
   "outputs": [
    {
     "data": {
      "text/plain": [
       "0.7948807032646409"
      ]
     },
     "execution_count": 91,
     "metadata": {},
     "output_type": "execute_result"
    }
   ],
   "source": [
    "## aplicando r2 no nosso problema\n",
    "\n",
    "y_pred = lr_scaled.predict(x_test)\n",
    "\n",
    "r2_score(y_test,y_pred)"
   ]
  },
  {
   "cell_type": "code",
   "execution_count": 92,
   "metadata": {},
   "outputs": [
    {
     "data": {
      "text/plain": [
       "0.8064764553870117"
      ]
     },
     "execution_count": 92,
     "metadata": {},
     "output_type": "execute_result"
    }
   ],
   "source": [
    "## avaliando overfitting\n",
    "\n",
    "y_pred_train = lr_scaled.predict(x_train)\n",
    "\n",
    "r2_score(y_train,y_pred_train)"
   ]
  },
  {
   "cell_type": "markdown",
   "metadata": {},
   "source": [
    "## cross_val_score"
   ]
  },
  {
   "cell_type": "code",
   "execution_count": 93,
   "metadata": {},
   "outputs": [],
   "source": [
    "from sklearn.model_selection import cross_val_score"
   ]
  },
  {
   "cell_type": "code",
   "execution_count": 94,
   "metadata": {},
   "outputs": [
    {
     "data": {
      "text/html": [
       "<div>\n",
       "<style scoped>\n",
       "    .dataframe tbody tr th:only-of-type {\n",
       "        vertical-align: middle;\n",
       "    }\n",
       "\n",
       "    .dataframe tbody tr th {\n",
       "        vertical-align: top;\n",
       "    }\n",
       "\n",
       "    .dataframe thead th {\n",
       "        text-align: right;\n",
       "    }\n",
       "</style>\n",
       "<table border=\"1\" class=\"dataframe\">\n",
       "  <thead>\n",
       "    <tr style=\"text-align: right;\">\n",
       "      <th></th>\n",
       "      <th>GrLivArea</th>\n",
       "      <th>GarageCars</th>\n",
       "      <th>GarageArea</th>\n",
       "      <th>TotalBsmtSF</th>\n",
       "      <th>1stFlrSF</th>\n",
       "      <th>FullBath</th>\n",
       "      <th>TotRmsAbvGrd</th>\n",
       "      <th>YearBuilt</th>\n",
       "      <th>qual_1</th>\n",
       "      <th>qual_2</th>\n",
       "      <th>qual_3</th>\n",
       "      <th>qual_4</th>\n",
       "      <th>qual_5</th>\n",
       "      <th>qual_6</th>\n",
       "      <th>qual_7</th>\n",
       "      <th>qual_8</th>\n",
       "      <th>qual_9</th>\n",
       "      <th>qual_10</th>\n",
       "    </tr>\n",
       "  </thead>\n",
       "  <tbody>\n",
       "    <tr>\n",
       "      <th>0</th>\n",
       "      <td>0.259231</td>\n",
       "      <td>0.50</td>\n",
       "      <td>0.386460</td>\n",
       "      <td>0.140098</td>\n",
       "      <td>0.119780</td>\n",
       "      <td>0.666667</td>\n",
       "      <td>0.500000</td>\n",
       "      <td>0.949275</td>\n",
       "      <td>0.0</td>\n",
       "      <td>0.0</td>\n",
       "      <td>0.0</td>\n",
       "      <td>0.0</td>\n",
       "      <td>0.0</td>\n",
       "      <td>0.0</td>\n",
       "      <td>1.0</td>\n",
       "      <td>0.0</td>\n",
       "      <td>0.0</td>\n",
       "      <td>0.0</td>\n",
       "    </tr>\n",
       "    <tr>\n",
       "      <th>1</th>\n",
       "      <td>0.174830</td>\n",
       "      <td>0.50</td>\n",
       "      <td>0.324401</td>\n",
       "      <td>0.206547</td>\n",
       "      <td>0.212942</td>\n",
       "      <td>0.666667</td>\n",
       "      <td>0.333333</td>\n",
       "      <td>0.753623</td>\n",
       "      <td>0.0</td>\n",
       "      <td>0.0</td>\n",
       "      <td>0.0</td>\n",
       "      <td>0.0</td>\n",
       "      <td>0.0</td>\n",
       "      <td>1.0</td>\n",
       "      <td>0.0</td>\n",
       "      <td>0.0</td>\n",
       "      <td>0.0</td>\n",
       "      <td>0.0</td>\n",
       "    </tr>\n",
       "    <tr>\n",
       "      <th>2</th>\n",
       "      <td>0.273549</td>\n",
       "      <td>0.50</td>\n",
       "      <td>0.428773</td>\n",
       "      <td>0.150573</td>\n",
       "      <td>0.134465</td>\n",
       "      <td>0.666667</td>\n",
       "      <td>0.333333</td>\n",
       "      <td>0.934783</td>\n",
       "      <td>0.0</td>\n",
       "      <td>0.0</td>\n",
       "      <td>0.0</td>\n",
       "      <td>0.0</td>\n",
       "      <td>0.0</td>\n",
       "      <td>0.0</td>\n",
       "      <td>1.0</td>\n",
       "      <td>0.0</td>\n",
       "      <td>0.0</td>\n",
       "      <td>0.0</td>\n",
       "    </tr>\n",
       "    <tr>\n",
       "      <th>3</th>\n",
       "      <td>0.260550</td>\n",
       "      <td>0.75</td>\n",
       "      <td>0.452750</td>\n",
       "      <td>0.123732</td>\n",
       "      <td>0.143873</td>\n",
       "      <td>0.333333</td>\n",
       "      <td>0.416667</td>\n",
       "      <td>0.311594</td>\n",
       "      <td>0.0</td>\n",
       "      <td>0.0</td>\n",
       "      <td>0.0</td>\n",
       "      <td>0.0</td>\n",
       "      <td>0.0</td>\n",
       "      <td>0.0</td>\n",
       "      <td>1.0</td>\n",
       "      <td>0.0</td>\n",
       "      <td>0.0</td>\n",
       "      <td>0.0</td>\n",
       "    </tr>\n",
       "    <tr>\n",
       "      <th>4</th>\n",
       "      <td>0.351168</td>\n",
       "      <td>0.75</td>\n",
       "      <td>0.589563</td>\n",
       "      <td>0.187398</td>\n",
       "      <td>0.186095</td>\n",
       "      <td>0.666667</td>\n",
       "      <td>0.583333</td>\n",
       "      <td>0.927536</td>\n",
       "      <td>0.0</td>\n",
       "      <td>0.0</td>\n",
       "      <td>0.0</td>\n",
       "      <td>0.0</td>\n",
       "      <td>0.0</td>\n",
       "      <td>0.0</td>\n",
       "      <td>0.0</td>\n",
       "      <td>1.0</td>\n",
       "      <td>0.0</td>\n",
       "      <td>0.0</td>\n",
       "    </tr>\n",
       "    <tr>\n",
       "      <th>...</th>\n",
       "      <td>...</td>\n",
       "      <td>...</td>\n",
       "      <td>...</td>\n",
       "      <td>...</td>\n",
       "      <td>...</td>\n",
       "      <td>...</td>\n",
       "      <td>...</td>\n",
       "      <td>...</td>\n",
       "      <td>...</td>\n",
       "      <td>...</td>\n",
       "      <td>...</td>\n",
       "      <td>...</td>\n",
       "      <td>...</td>\n",
       "      <td>...</td>\n",
       "      <td>...</td>\n",
       "      <td>...</td>\n",
       "      <td>...</td>\n",
       "      <td>...</td>\n",
       "    </tr>\n",
       "    <tr>\n",
       "      <th>1455</th>\n",
       "      <td>0.247362</td>\n",
       "      <td>0.50</td>\n",
       "      <td>0.324401</td>\n",
       "      <td>0.155974</td>\n",
       "      <td>0.142038</td>\n",
       "      <td>0.666667</td>\n",
       "      <td>0.416667</td>\n",
       "      <td>0.920290</td>\n",
       "      <td>0.0</td>\n",
       "      <td>0.0</td>\n",
       "      <td>0.0</td>\n",
       "      <td>0.0</td>\n",
       "      <td>0.0</td>\n",
       "      <td>1.0</td>\n",
       "      <td>0.0</td>\n",
       "      <td>0.0</td>\n",
       "      <td>0.0</td>\n",
       "      <td>0.0</td>\n",
       "    </tr>\n",
       "    <tr>\n",
       "      <th>1456</th>\n",
       "      <td>0.327619</td>\n",
       "      <td>0.50</td>\n",
       "      <td>0.352609</td>\n",
       "      <td>0.252373</td>\n",
       "      <td>0.399036</td>\n",
       "      <td>0.666667</td>\n",
       "      <td>0.416667</td>\n",
       "      <td>0.768116</td>\n",
       "      <td>0.0</td>\n",
       "      <td>0.0</td>\n",
       "      <td>0.0</td>\n",
       "      <td>0.0</td>\n",
       "      <td>0.0</td>\n",
       "      <td>1.0</td>\n",
       "      <td>0.0</td>\n",
       "      <td>0.0</td>\n",
       "      <td>0.0</td>\n",
       "      <td>0.0</td>\n",
       "    </tr>\n",
       "    <tr>\n",
       "      <th>1457</th>\n",
       "      <td>0.377920</td>\n",
       "      <td>0.25</td>\n",
       "      <td>0.177715</td>\n",
       "      <td>0.188543</td>\n",
       "      <td>0.195961</td>\n",
       "      <td>0.666667</td>\n",
       "      <td>0.583333</td>\n",
       "      <td>0.500000</td>\n",
       "      <td>0.0</td>\n",
       "      <td>0.0</td>\n",
       "      <td>0.0</td>\n",
       "      <td>0.0</td>\n",
       "      <td>0.0</td>\n",
       "      <td>0.0</td>\n",
       "      <td>1.0</td>\n",
       "      <td>0.0</td>\n",
       "      <td>0.0</td>\n",
       "      <td>0.0</td>\n",
       "    </tr>\n",
       "    <tr>\n",
       "      <th>1458</th>\n",
       "      <td>0.140166</td>\n",
       "      <td>0.25</td>\n",
       "      <td>0.169252</td>\n",
       "      <td>0.176432</td>\n",
       "      <td>0.170721</td>\n",
       "      <td>0.333333</td>\n",
       "      <td>0.250000</td>\n",
       "      <td>0.565217</td>\n",
       "      <td>0.0</td>\n",
       "      <td>0.0</td>\n",
       "      <td>0.0</td>\n",
       "      <td>0.0</td>\n",
       "      <td>1.0</td>\n",
       "      <td>0.0</td>\n",
       "      <td>0.0</td>\n",
       "      <td>0.0</td>\n",
       "      <td>0.0</td>\n",
       "      <td>0.0</td>\n",
       "    </tr>\n",
       "    <tr>\n",
       "      <th>1459</th>\n",
       "      <td>0.173700</td>\n",
       "      <td>0.25</td>\n",
       "      <td>0.194640</td>\n",
       "      <td>0.205565</td>\n",
       "      <td>0.211565</td>\n",
       "      <td>0.333333</td>\n",
       "      <td>0.333333</td>\n",
       "      <td>0.673913</td>\n",
       "      <td>0.0</td>\n",
       "      <td>0.0</td>\n",
       "      <td>0.0</td>\n",
       "      <td>0.0</td>\n",
       "      <td>1.0</td>\n",
       "      <td>0.0</td>\n",
       "      <td>0.0</td>\n",
       "      <td>0.0</td>\n",
       "      <td>0.0</td>\n",
       "      <td>0.0</td>\n",
       "    </tr>\n",
       "  </tbody>\n",
       "</table>\n",
       "<p>1460 rows × 18 columns</p>\n",
       "</div>"
      ],
      "text/plain": [
       "      GrLivArea  GarageCars  GarageArea  TotalBsmtSF  1stFlrSF  FullBath  \\\n",
       "0      0.259231        0.50    0.386460     0.140098  0.119780  0.666667   \n",
       "1      0.174830        0.50    0.324401     0.206547  0.212942  0.666667   \n",
       "2      0.273549        0.50    0.428773     0.150573  0.134465  0.666667   \n",
       "3      0.260550        0.75    0.452750     0.123732  0.143873  0.333333   \n",
       "4      0.351168        0.75    0.589563     0.187398  0.186095  0.666667   \n",
       "...         ...         ...         ...          ...       ...       ...   \n",
       "1455   0.247362        0.50    0.324401     0.155974  0.142038  0.666667   \n",
       "1456   0.327619        0.50    0.352609     0.252373  0.399036  0.666667   \n",
       "1457   0.377920        0.25    0.177715     0.188543  0.195961  0.666667   \n",
       "1458   0.140166        0.25    0.169252     0.176432  0.170721  0.333333   \n",
       "1459   0.173700        0.25    0.194640     0.205565  0.211565  0.333333   \n",
       "\n",
       "      TotRmsAbvGrd  YearBuilt  qual_1  qual_2  qual_3  qual_4  qual_5  qual_6  \\\n",
       "0         0.500000   0.949275     0.0     0.0     0.0     0.0     0.0     0.0   \n",
       "1         0.333333   0.753623     0.0     0.0     0.0     0.0     0.0     1.0   \n",
       "2         0.333333   0.934783     0.0     0.0     0.0     0.0     0.0     0.0   \n",
       "3         0.416667   0.311594     0.0     0.0     0.0     0.0     0.0     0.0   \n",
       "4         0.583333   0.927536     0.0     0.0     0.0     0.0     0.0     0.0   \n",
       "...            ...        ...     ...     ...     ...     ...     ...     ...   \n",
       "1455      0.416667   0.920290     0.0     0.0     0.0     0.0     0.0     1.0   \n",
       "1456      0.416667   0.768116     0.0     0.0     0.0     0.0     0.0     1.0   \n",
       "1457      0.583333   0.500000     0.0     0.0     0.0     0.0     0.0     0.0   \n",
       "1458      0.250000   0.565217     0.0     0.0     0.0     0.0     1.0     0.0   \n",
       "1459      0.333333   0.673913     0.0     0.0     0.0     0.0     1.0     0.0   \n",
       "\n",
       "      qual_7  qual_8  qual_9  qual_10  \n",
       "0        1.0     0.0     0.0      0.0  \n",
       "1        0.0     0.0     0.0      0.0  \n",
       "2        1.0     0.0     0.0      0.0  \n",
       "3        1.0     0.0     0.0      0.0  \n",
       "4        0.0     1.0     0.0      0.0  \n",
       "...      ...     ...     ...      ...  \n",
       "1455     0.0     0.0     0.0      0.0  \n",
       "1456     0.0     0.0     0.0      0.0  \n",
       "1457     1.0     0.0     0.0      0.0  \n",
       "1458     0.0     0.0     0.0      0.0  \n",
       "1459     0.0     0.0     0.0      0.0  \n",
       "\n",
       "[1460 rows x 18 columns]"
      ]
     },
     "execution_count": 94,
     "metadata": {},
     "output_type": "execute_result"
    }
   ],
   "source": [
    "df_scaled"
   ]
  },
  {
   "cell_type": "code",
   "execution_count": 95,
   "metadata": {},
   "outputs": [
    {
     "data": {
      "text/plain": [
       "0       208500\n",
       "1       181500\n",
       "2       223500\n",
       "3       140000\n",
       "4       250000\n",
       "         ...  \n",
       "1455    175000\n",
       "1456    210000\n",
       "1457    266500\n",
       "1458    142125\n",
       "1459    147500\n",
       "Name: SalePrice, Length: 1460, dtype: int64"
      ]
     },
     "execution_count": 95,
     "metadata": {},
     "output_type": "execute_result"
    }
   ],
   "source": [
    "y"
   ]
  },
  {
   "cell_type": "code",
   "execution_count": 96,
   "metadata": {},
   "outputs": [
    {
     "data": {
      "text/plain": [
       "array([-7.57804252e+08, -9.05569850e+08, -7.03954761e+08, -1.99852241e+09,\n",
       "       -1.78417099e+09, -1.10502427e+09, -9.28872128e+08, -8.95132967e+08,\n",
       "       -3.59623373e+09, -8.15950424e+08])"
      ]
     },
     "execution_count": 96,
     "metadata": {},
     "output_type": "execute_result"
    }
   ],
   "source": [
    "cross_lr = LinearRegression()\n",
    "arr=cross_val_score(cross_lr,df_scaled,y,cv=10,scoring='neg_mean_squared_error')\n",
    "arr"
   ]
  },
  {
   "cell_type": "code",
   "execution_count": 97,
   "metadata": {},
   "outputs": [
    {
     "data": {
      "text/plain": [
       "35326.88967247516"
      ]
     },
     "execution_count": 97,
     "metadata": {},
     "output_type": "execute_result"
    }
   ],
   "source": [
    "np.sqrt(arr*-1).mean()"
   ]
  },
  {
   "cell_type": "code",
   "execution_count": 108,
   "metadata": {},
   "outputs": [],
   "source": [
    "from sklearn.tree import DecisionTreeRegressor\n",
    "from sklearn.ensemble import RandomForestRegressor\n",
    "\n",
    "def train_models(x,y,cv):\n",
    "\n",
    "    error = pd.DataFrame([])\n",
    "\n",
    "    ## val dummy\n",
    "    dummy = DummyRegressor(strategy='mean')\n",
    "    error['dummy'] = (cross_val_score(dummy,x,y,cv=cv,scoring='neg_root_mean_squared_error')*-1)\n",
    "\n",
    "    ## val LinearModel\n",
    "    linear = LinearRegression()\n",
    "    error['linear'] = (cross_val_score(linear,x,y,cv=cv,scoring='neg_root_mean_squared_error')*-1)\n",
    "\n",
    "    ## val DecisionTree\n",
    "    dt_reg = DecisionTreeRegressor()\n",
    "    error['tree'] = (cross_val_score(dt_reg,x,y,cv=cv,scoring='neg_root_mean_squared_error')*-1)\n",
    "    \n",
    "    ## val RandomForest\n",
    "    rf_reg = RandomForestRegressor()\n",
    "    error['forest'] = (cross_val_score(rf_reg,x,y,cv=cv,scoring='neg_root_mean_squared_error')*-1)\n",
    "    \n",
    "    error = error.transpose()\n",
    "    error = error.assign(mean = lambda x: x.mean(axis=1))\n",
    "\n",
    "    return error"
   ]
  },
  {
   "cell_type": "code",
   "execution_count": 109,
   "metadata": {},
   "outputs": [
    {
     "data": {
      "text/plain": [
       "dummy     79020.252141\n",
       "linear    35326.889672\n",
       "tree      42494.977523\n",
       "forest    32546.857565\n",
       "Name: mean, dtype: float64"
      ]
     },
     "execution_count": 109,
     "metadata": {},
     "output_type": "execute_result"
    }
   ],
   "source": [
    "train_models(df_scaled,y,cv=10)['mean']"
   ]
  }
 ],
 "metadata": {
  "kernelspec": {
   "display_name": "Python 3.7.6 64-bit ('base': conda)",
   "language": "python",
   "name": "python37664bitbaseconda774df39cacc84caf9286edd8f47a70cc"
  },
  "language_info": {
   "codemirror_mode": {
    "name": "ipython",
    "version": 3
   },
   "file_extension": ".py",
   "mimetype": "text/x-python",
   "name": "python",
   "nbconvert_exporter": "python",
   "pygments_lexer": "ipython3",
   "version": "3.7.6"
  }
 },
 "nbformat": 4,
 "nbformat_minor": 4
}

{
 "cells": [
  {
   "cell_type": "markdown",
   "metadata": {},
   "source": [
    "# Autoencoder Convolucional\n",
    "\n",
    "Ainda com o dataset MNIST, iremos melhorar nossa performance utilizando camadas convolucionais. Não se preocupe, o objetivo aqui é apenas mostrar seu funcionamento em alto nível, não será exigido um alto grau de conhecimento sobre CNNs, pois esse não é o foco neste momento.\n",
    "\n",
    "- A parte do codificador será composta por uma camadas convolucionais e de pooling.\n",
    "- O decodificador será formado por **camadas convolucionais transpostas**, que irão realizar upsampling da representação comprimida.\n",
    "\n",
    "<img src='notebook_ims/autoencoder_1.png' />\n",
    "\n",
    "### Representação Comprimida\n",
    "\n",
    "De forma geral, a representação comprimida possui informações chave sobre a imagem original e pode ser utilizada também para a remoção de ruídos das imagens ou realizar outros tipos de reconstrução ou transformações.\n",
    "\n",
    "<img src='notebook_ims/denoising.png' width=60%/>"
   ]
  },
  {
   "cell_type": "code",
   "execution_count": 1,
   "metadata": {},
   "outputs": [],
   "source": [
    "import torch\n",
    "import numpy as np\n",
    "from torchvision import datasets\n",
    "import torchvision.transforms as transforms\n",
    "\n",
    "# convert data to torch.FloatTensor\n",
    "transform = transforms.ToTensor()\n",
    "\n",
    "# load the training and test datasets\n",
    "train_data = datasets.MNIST(root='data', train=True, download=True, transform=transform)\n",
    "test_data = datasets.MNIST(root='data', train=False, download=True, transform=transform)"
   ]
  },
  {
   "cell_type": "code",
   "execution_count": 2,
   "metadata": {},
   "outputs": [],
   "source": [
    "# Create training and test dataloaders\n",
    "\n",
    "num_workers = 1\n",
    "# how many samples per batch to load\n",
    "batch_size = 20\n",
    "\n",
    "# prepare data loaders\n",
    "train_loader = torch.utils.data.DataLoader(train_data, batch_size=batch_size, num_workers=num_workers)\n",
    "test_loader = torch.utils.data.DataLoader(test_data, batch_size=batch_size, num_workers=num_workers)"
   ]
  },
  {
   "cell_type": "markdown",
   "metadata": {},
   "source": [
    "### Visualização dos Dados"
   ]
  },
  {
   "cell_type": "code",
   "execution_count": 3,
   "metadata": {},
   "outputs": [
    {
     "data": {
      "text/plain": [
       "<matplotlib.image.AxesImage at 0x19f489346d0>"
      ]
     },
     "execution_count": 3,
     "metadata": {},
     "output_type": "execute_result"
    },
    {
     "data": {
      "image/png": "[encoded data removed]",
      "text/plain": [
       "<Figure size 360x360 with 1 Axes>"
      ]
     },
     "metadata": {
      "needs_background": "light"
     },
     "output_type": "display_data"
    }
   ],
   "source": [
    "import matplotlib.pyplot as plt\n",
    "%matplotlib inline\n",
    "    \n",
    "# obtain one batch of training images\n",
    "dataiter = iter(train_loader)\n",
    "images, labels = dataiter.next()\n",
    "images = images.numpy()\n",
    "\n",
    "# get one image from the batch\n",
    "img = np.squeeze(images[0])\n",
    "\n",
    "fig = plt.figure(figsize = (5,5)) \n",
    "ax = fig.add_subplot(111)\n",
    "ax.imshow(img, cmap='gray')"
   ]
  },
  {
   "cell_type": "markdown",
   "metadata": {},
   "source": [
    "---\n",
    "## Autoencoder Convolucional\n",
    "\n",
    "#### Codificador\n",
    "A parte do codificador da rede será uma pirâmide convolucional típica. Cada camada convolucional será seguida por uma camada de max-pooling para reduzir as dimensões das camadas.\n",
    "\n",
    ">O max-pooling é uma camada que realiza subamostragem. No nosso caso, cada vez que uma informação é passada por uma camada de max-pooling, as dimensões da informação são reduzidas na metade.\n",
    "\n",
    "#### Decodificador\n",
    "O decodificador precisa converter uma representação estreita e compacta em uma imagem ampla e reconstruída. Por exemplo, a representação pode ser uma camada max-pool de 7x7x4. Esta é a saída do codificador, mas também é a entrada para o decodificador. Queremos obter uma imagem de 28x28x1 do decodificador e, portanto, precisamos partir da representação comprimida para voltar à imagem original. Um esquema da rede é mostrado abaixo.\n",
    "\n",
    "<img src='notebook_ims/conv_enc_1.png' width=640px>\n",
    "\n",
    "\n",
    "Aqui, a nossa camada final do codificador possui o tamanho 7x7x4 = 196. As imagens originais têm tamanho 28x28 = 784, portanto, o vetor codificado é 25% do tamanho da imagem original. Estes são apenas os tamanhos sugeridos para cada uma das camadas. Sinta-se à vontade para alterar as profundidades e os tamanhos. Na verdade, é recomendável adicionar camadas adicionais para tornar essa representação ainda menor! Lembre-se de que nosso objetivo aqui é encontrar uma representação menor dos dados de entrada.\n",
    "\n",
    "### Convoluções de transposição, decodificador\n",
    "\n",
    "Este decodificador usa camadas convolucionais transpostas para aumentar a largura e a altura das camadas de entrada. Eles funcionam quase exatamente da mesma forma que as camadas convolucionais, mas ao contrário. Um passo na camada de entrada resulta em um passo (stride) maior na camada de convolução transposta. Por exemplo, se você tiver um kernel 3x3, um patch 3x3 na camada de entrada será reduzido para uma unidade em uma camada convolucional. Comparativamente, uma unidade na camada de entrada será expandida para um path 3x3 em uma camada de convolução transposta. O PyTorch nos fornece uma maneira fácil de criar as camadas, [`nn.ConvTranspose2d`] (https://pytorch.org/docs/stable/nn.html#convtranspose2d).\n",
    "\n",
    "É importante observar que as camadas de convolução de transposição podem levar a artefatos nas imagens finais, como padrões de tabuleiro de damas. Isso ocorre devido à sobreposição nos kernels, o que pode ser evitado definindo o tamanho da passada (stride) e do kernel iguais. [Este artigo Distill] (http://distill.pub/2016/deconv-checkerboard/) de Augustus Odena, *et al*, os autores mostram que esses artefatos de tabuleiro de damas podem ser evitados redimensionando as camadas usando o vizinho mais próximo ou interpolação bilinear (upsampling) seguida por uma camada convolucional.\n",
    "\n",
    "> Ao construir o decodificador, lembre-se de que as camadas convolucionais de transposição podem aumentar a amostra de uma entrada por um fator de 2 usando um stride e um kernel_size de 2."
   ]
  },
  {
   "cell_type": "code",
   "execution_count": 7,
   "metadata": {},
   "outputs": [
    {
     "name": "stdout",
     "output_type": "stream",
     "text": [
      "ConvAutoencoder(\n",
      "  (conv1): Conv2d(1, 16, kernel_size=(3, 3), stride=(1, 1), padding=(1, 1))\n",
      "  (conv2): Conv2d(16, 4, kernel_size=(3, 3), stride=(1, 1), padding=(1, 1))\n",
      "  (pool): MaxPool2d(kernel_size=2, stride=2, padding=0, dilation=1, ceil_mode=False)\n",
      "  (t_conv1): ConvTranspose2d(4, 16, kernel_size=(2, 2), stride=(2, 2))\n",
      "  (t_conv2): ConvTranspose2d(16, 1, kernel_size=(2, 2), stride=(2, 2))\n",
      ")\n"
     ]
    }
   ],
   "source": [
    "import torch.nn as nn\n",
    "import torch.nn.functional as F\n",
    "\n",
    "# define the NN architecture\n",
    "class ConvAutoencoder(nn.Module):\n",
    "    def __init__(self):\n",
    "        super(ConvAutoencoder, self).__init__()\n",
    "        ## encoder layers ##\n",
    "        # conv layer (depth from 1 --> 16), 3x3 kernels\n",
    "        self.conv1 = nn.Conv2d(1, 16, 3, padding=1)  \n",
    "        # conv layer (depth from 16 --> 4), 3x3 kernels\n",
    "        self.conv2 = nn.Conv2d(16, 4, 3, padding=1)\n",
    "        # pooling layer to reduce x-y dims by two; kernel and stride of 2\n",
    "        self.pool = nn.MaxPool2d(2, 2)\n",
    "        \n",
    "        ## decoder layers ##\n",
    "        ## a kernel of 2 and a stride of 2 will increase the spatial dims by 2\n",
    "        self.t_conv1 = nn.ConvTranspose2d(4, 16, 2, stride=2)\n",
    "        self.t_conv2 = nn.ConvTranspose2d(16, 1, 2, stride=2)\n",
    "\n",
    "\n",
    "    def forward(self, x):\n",
    "        ## encode ##\n",
    "        # add hidden layers with relu activation function\n",
    "        # and maxpooling after\n",
    "        x = F.relu(self.conv1(x))\n",
    "        x = self.pool(x)\n",
    "        # add second hidden layer\n",
    "        x = F.relu(self.conv2(x))\n",
    "        x = self.pool(x)  # compressed representation\n",
    "        \n",
    "        ## decode ##\n",
    "        # add transpose conv layers, with relu activation function\n",
    "        x = F.relu(self.t_conv1(x))\n",
    "        # output layer (with sigmoid for scaling from 0 to 1)\n",
    "        x = torch.sigmoid(self.t_conv2(x))\n",
    "                \n",
    "        return x\n",
    "\n",
    "# initialize the NN\n",
    "model = ConvAutoencoder()\n",
    "print(model)"
   ]
  },
  {
   "cell_type": "markdown",
   "metadata": {},
   "source": [
    "---\n",
    "## Treinamento\n",
    "\n",
    "Não estou muito interessado em validação aqui, então monitorarei a perda de treinamento e a perda de teste posteriormente.\n",
    "\n",
    "Não estamos preocupados com labels neste caso, apenas imagens, que podemos obter do `train_loader`. Como estamos comparando valores de pixel em imagens de entrada e saída, será melhor usar uma função de loss destinada a uma tarefa de regressão. Regressão está relacionada com a comparação de quantidades, não com valores probabilísticos. Portanto, neste caso, usaremos o `MSELoss`. Compare as imagens de saída com as imagens de entrada da seguinte maneira:\n",
    "\n",
    "```\n",
    "loss = criterion(outputs, images)\n",
    "```\n",
    "\n",
    "Como esse é um autoencoder convencional, nossas imagens _não_ precisam ser achatadas antes de serem passadas como entrada para o nosso modelo."
   ]
  },
  {
   "cell_type": "code",
   "execution_count": 8,
   "metadata": {},
   "outputs": [],
   "source": [
    "# specify loss function\n",
    "criterion = nn.MSELoss()\n",
    "\n",
    "# specify loss function\n",
    "optimizer = torch.optim.Adam(model.parameters(), lr=0.001)"
   ]
  },
  {
   "cell_type": "code",
   "execution_count": 9,
   "metadata": {},
   "outputs": [
    {
     "name": "stdout",
     "output_type": "stream",
     "text": [
      "Epoch: 1 \tTraining Loss: 0.604463\n",
      "Epoch: 2 \tTraining Loss: 0.372801\n",
      "Epoch: 3 \tTraining Loss: 0.329714\n",
      "Epoch: 4 \tTraining Loss: 0.282565\n",
      "Epoch: 5 \tTraining Loss: 0.242547\n",
      "Epoch: 6 \tTraining Loss: 0.230748\n",
      "Epoch: 7 \tTraining Loss: 0.222918\n",
      "Epoch: 8 \tTraining Loss: 0.217509\n",
      "Epoch: 9 \tTraining Loss: 0.213246\n",
      "Epoch: 10 \tTraining Loss: 0.209967\n",
      "Epoch: 11 \tTraining Loss: 0.207725\n",
      "Epoch: 12 \tTraining Loss: 0.206106\n",
      "Epoch: 13 \tTraining Loss: 0.204837\n",
      "Epoch: 14 \tTraining Loss: 0.203778\n",
      "Epoch: 15 \tTraining Loss: 0.202877\n",
      "Epoch: 16 \tTraining Loss: 0.202088\n",
      "Epoch: 17 \tTraining Loss: 0.201384\n",
      "Epoch: 18 \tTraining Loss: 0.200747\n",
      "Epoch: 19 \tTraining Loss: 0.200153\n",
      "Epoch: 20 \tTraining Loss: 0.199587\n"
     ]
    }
   ],
   "source": [
    "# number of epochs to train the model\n",
    "n_epochs = 20\n",
    "\n",
    "for epoch in range(1, n_epochs+1):\n",
    "    # monitor training loss\n",
    "    train_loss = 0.0\n",
    "    \n",
    "    ###################\n",
    "    # train the model #\n",
    "    ###################\n",
    "    for data in train_loader:\n",
    "        # _ stands in for labels, here\n",
    "        # no need to flatten images\n",
    "        images, _ = data\n",
    "        # clear the gradients of all optimized variables\n",
    "        optimizer.zero_grad()\n",
    "        # forward pass: compute predicted outputs by passing inputs to the model\n",
    "        outputs = model(images)\n",
    "        # calculate the loss\n",
    "        loss = criterion(outputs, images)\n",
    "        # backward pass: compute gradient of the loss with respect to model parameters\n",
    "        loss.backward()\n",
    "        # perform a single optimization step (parameter update)\n",
    "        optimizer.step()\n",
    "        # update running training loss\n",
    "        train_loss += loss.item()*images.size(0)\n",
    "            \n",
    "    # print avg training statistics \n",
    "    train_loss = train_loss/len(train_loader)\n",
    "    print('Epoch: {} \\tTraining Loss: {:.6f}'.format(\n",
    "        epoch, \n",
    "        train_loss\n",
    "        ))"
   ]
  },
  {
   "cell_type": "markdown",
   "metadata": {},
   "source": [
    "## Checando os Resultados\n",
    "\n",
    "Abaixo, plotamos algumas das imagens do conjunto de teste junto com suas reconstruções. Elas parecem um pouco grosseiras nas bordas, provavelmente devido ao efeito quadriculado que mencionamos acima que costuma acontecer com as camadas de transposição."
   ]
  },
  {
   "cell_type": "code",
   "execution_count": 10,
   "metadata": {},
   "outputs": [
    {
     "data": {
      "image/png": "[encoded data removed]",
      "text/plain": [
       "<Figure size 1800x288 with 20 Axes>"
      ]
     },
     "metadata": {
      "needs_background": "light"
     },
     "output_type": "display_data"
    }
   ],
   "source": [
    "# obtain one batch of test images\n",
    "dataiter = iter(test_loader)\n",
    "images, labels = dataiter.next()\n",
    "\n",
    "# get sample outputs\n",
    "output = model(images)\n",
    "# prep images for display\n",
    "images = images.numpy()\n",
    "\n",
    "# output is resized into a batch of iages\n",
    "output = output.view(batch_size, 1, 28, 28)\n",
    "# use detach when it's an output that requires_grad\n",
    "output = output.detach().numpy()\n",
    "\n",
    "# plot the first ten input images and then reconstructed images\n",
    "fig, axes = plt.subplots(nrows=2, ncols=10, sharex=True, sharey=True, figsize=(25,4))\n",
    "\n",
    "# input images on top row, reconstructions on bottom\n",
    "for images, row in zip([images, output], axes):\n",
    "    for img, ax in zip(images, row):\n",
    "        ax.imshow(np.squeeze(img), cmap='gray')\n",
    "        ax.get_xaxis().set_visible(False)\n",
    "        ax.get_yaxis().set_visible(False)"
   ]
  }
 ],
 "metadata": {
  "kernelspec": {
   "display_name": "Python 3",
   "language": "python",
   "name": "python3"
  },
  "language_info": {
   "codemirror_mode": {
    "name": "ipython",
    "version": 3
   },
   "file_extension": ".py",
   "mimetype": "text/x-python",
   "name": "python",
   "nbconvert_exporter": "python",
   "pygments_lexer": "ipython3",
   "version": "3.8.2"
  }
 },
 "nbformat": 4,
 "nbformat_minor": 4
}
